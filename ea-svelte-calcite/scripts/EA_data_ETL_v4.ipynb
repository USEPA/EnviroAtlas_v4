{
 "cells": [
  {
   "cell_type": "code",
   "execution_count": null,
   "id": "e7f2eecb",
   "metadata": {},
   "outputs": [],
   "source": [
    "import pandas as pd\n",
    "import json\n",
    "from itertools import groupby"
   ]
  },
  {
   "cell_type": "markdown",
   "id": "3abcda0d",
   "metadata": {},
   "source": [
    "# Data Prep"
   ]
  },
  {
   "cell_type": "code",
   "execution_count": null,
   "id": "3d597a66",
   "metadata": {},
   "outputs": [],
   "source": [
    "pd.set_option(\"display.max_rows\", None) "
   ]
  },
  {
   "cell_type": "code",
   "execution_count": null,
   "id": "b6c90e3b",
   "metadata": {},
   "outputs": [],
   "source": [
    "# Input JSON data (from production)\n",
    "config_path = '/src/shared/dataCatalog_config.json'"
   ]
  },
  {
   "cell_type": "code",
   "execution_count": null,
   "id": "8d9d2191",
   "metadata": {},
   "outputs": [],
   "source": [
    "with open(config_path, 'r') as f:\n",
    "    data = json.load(f)"
   ]
  },
  {
   "cell_type": "code",
   "execution_count": null,
   "id": "0d0c0c6e",
   "metadata": {},
   "outputs": [],
   "source": [
    "# Data to drop\n",
    "keys = [\n",
    "    'popup', \n",
    "    'mode', \n",
    "    'numDecimal', \n",
    "    'visible', \n",
    "    'eaMetric', \n",
    "    'eaMetadata', \n",
    "    'opacity', \n",
    "    'url', \n",
    "    'eaDescription', \n",
    "    'tileLink', \n",
    "    'eaDfsLink', \n",
    "    'sourceType',\n",
    "    'eaBCSDD',\n",
    "    'autorefresh',\n",
    "    'type', \n",
    "    'DownloadSource', \n",
    "    'eaLyrNum',\n",
    "    'eaTags',\n",
    "    'areaGeog',\n",
    "    'eaScale',\n",
    "    'tileURL',\n",
    "    'hucNavStats',\n",
    "    'hucNavStatsUnits',\n",
    "    'layers',\n",
    "    'cacheLevelNat',\n",
    "    'agoID']"
   ]
  },
  {
   "cell_type": "code",
   "execution_count": null,
   "id": "9e9563b1",
   "metadata": {},
   "outputs": [],
   "source": [
    "# Drop all the keys from JSON dataset\n",
    "for i in data:\n",
    "    for key in keys:\n",
    "        i.pop(key, None)"
   ]
  },
  {
   "cell_type": "markdown",
   "id": "25828fa0",
   "metadata": {},
   "source": [
    "# Test process for subtopics with many layers"
   ]
  },
  {
   "cell_type": "code",
   "execution_count": null,
   "id": "1219b3e7",
   "metadata": {},
   "outputs": [],
   "source": [
    "# Filter data to eaID greater than or equal to 1000 (i.e. subtopics with layer references) \n",
    "data_filtered_subtopics = [d for d in data if d[\"eaID\"] >= 1000]\n",
    "print(data_filtered_subtopics)"
   ]
  },
  {
   "cell_type": "code",
   "execution_count": null,
   "id": "6d5f9615",
   "metadata": {},
   "outputs": [],
   "source": [
    "# Rename columns\n",
    "rename_columns = {\n",
    "    \"categoryTab\" : \"category\",\n",
    "    \"eaTopic\" : \"title\",\n",
    "    \"SubLayerIds\": \"A\",\n",
    "    \"SubLayerNames\": \"C\"\n",
    "}\n",
    "filtered_subtopics_df = pd.DataFrame(data_filtered_subtopics)\n",
    "filtered_subtopics_df = filtered_subtopics_df.rename(columns=rename_columns)\n",
    "# filtered_subtopics_df = filtered_subtopics_df.set_index('eaID')\n",
    "cols=['title', 'category', 'eaBC', 'eaCA', 'eaCPW', 'eaCS', 'eaFFM', 'eaNHM', 'eaRCA', 'name', 'A', 'C', ]\n",
    "filtered_subtopics_df = filtered_subtopics_df[cols]\n",
    "filtered_subtopics_df"
   ]
  },
  {
   "cell_type": "code",
   "execution_count": null,
   "id": "c2d74883",
   "metadata": {},
   "outputs": [],
   "source": [
    "# Lump subtopics by eatopic\n",
    "filtered_subtopics_df_carbon = filtered_subtopics_df.loc[filtered_subtopics_df['title'] == \"Soils\"]\n",
    "filtered_subtopics_df_carbon"
   ]
  },
  {
   "cell_type": "code",
   "execution_count": null,
   "id": "c483e4f7",
   "metadata": {},
   "outputs": [],
   "source": [
    "explode = filtered_subtopics_df.explode(list('AC'))\n",
    "layers = explode.iloc[:, 2:].reset_index(drop=True)\n",
    "layers = layers.set_index(['name'])\n",
    "cols = {\n",
    "    \"A\": \"eaID\",\n",
    "    \"C\": \"title\"\n",
    "}\n",
    "layers = layers.rename(columns=cols)\n",
    "layers = layers.astype({'eaID': 'int32'})\n",
    "layers"
   ]
  },
  {
   "cell_type": "code",
   "execution_count": null,
   "id": "b88b77b9",
   "metadata": {},
   "outputs": [],
   "source": [
    "layers.to_csv('/src/shared/layers.csv')"
   ]
  },
  {
   "cell_type": "code",
   "execution_count": null,
   "id": "dd72aa71",
   "metadata": {},
   "outputs": [],
   "source": [
    "subtopics = layers.to_json(orient='table')"
   ]
  },
  {
   "cell_type": "code",
   "execution_count": null,
   "id": "71aa7b85",
   "metadata": {},
   "outputs": [],
   "source": [
    "subtopics"
   ]
  },
  {
   "cell_type": "code",
   "execution_count": null,
   "id": "8e279320",
   "metadata": {},
   "outputs": [],
   "source": [
    "obj = json.loads(subtopics)\n",
    "data = obj[\"data\"]\n",
    "data"
   ]
  },
  {
   "cell_type": "code",
   "execution_count": null,
   "id": "ac05df54",
   "metadata": {},
   "outputs": [],
   "source": [
    "result = []\n",
    "key_function = lambda x: (x['name'], x['eaBC'], x['eaCA'], x['eaCPW'], x['eaCS'], x['eaFFM'], x['eaNHM'], x['eaRCA'])\n",
    "data.sort(key = key_function)\n",
    "for group, checkings in groupby(data, key_function):\n",
    "        user = {\n",
    "                'name': group[0],\n",
    "                'eaBC': group[1],\n",
    "                'eaCA': group[2],\n",
    "                'eaCPW': group[3],\n",
    "                'eaCS': group[4],\n",
    "                'eaFFM': group[5],\n",
    "                'eaNHM': group[6],\n",
    "                'eaRCA': group[7],\n",
    "                'layers': []\n",
    "        }\n",
    "        for title in checkings:\n",
    "                user['layers'].append(({\"title\": title['title'], \"eaID\": title['eaID']}))\n",
    "        result.append(user)\n",
    "\n",
    "print(json.dumps(result, indent=2))"
   ]
  },
  {
   "cell_type": "markdown",
   "id": "66424980",
   "metadata": {},
   "source": [
    "# Formalize Process"
   ]
  },
  {
   "cell_type": "code",
   "execution_count": null,
   "id": "387a78d4",
   "metadata": {},
   "outputs": [],
   "source": [
    "def process_old_json(subtopic):\n",
    "    filtered_subtopics_df_carbon = filtered_subtopics_df.loc[filtered_subtopics_df['title'] == subtopic]\n",
    "    explode = filtered_subtopics_df_carbon.explode(list('AC'))\n",
    "    layers = explode.iloc[:, 2:].reset_index(drop=True)\n",
    "    layers = layers.set_index(['name'])\n",
    "    cols = {\n",
    "        \"A\": \"eaID\",\n",
    "        \"C\": \"title\"\n",
    "    }\n",
    "    layers = layers.rename(columns=cols)\n",
    "    layers = layers.astype({'eaID': 'int32'})\n",
    "    subtopics = layers.to_json(orient='table')\n",
    "    obj = json.loads(subtopics)\n",
    "    data = obj[\"data\"]\n",
    "    result = []\n",
    "    key_function = lambda x: (x['name'], x['eaBC'], x['eaCA'], x['eaCPW'], x['eaCS'], x['eaFFM'], x['eaNHM'], x['eaRCA'])\n",
    "    data.sort(key = key_function)\n",
    "    for group, checkings in groupby(data, key_function):\n",
    "            user = {\n",
    "                    'name': group[0],\n",
    "                    'eaBC': group[1],\n",
    "                    'eaCA': group[2],\n",
    "                    'eaCPW': group[3],\n",
    "                    'eaCS': group[4],\n",
    "                    'eaFFM': group[5],\n",
    "                    'eaNHM': group[6],\n",
    "                    'eaRCA': group[7],\n",
    "                    'layers': []\n",
    "            }\n",
    "            for title in checkings:\n",
    "                    user['layers'].append(({\"title\": title['title'], \"eaID\": title['eaID']}))\n",
    "            result.append(user)\n",
    "\n",
    "    print(json.dumps(result, indent=2))"
   ]
  },
  {
   "cell_type": "markdown",
   "id": "8a9a2fc1",
   "metadata": {},
   "source": [
    "### Gather data...brute force copy and paste as \"subtopic\"..."
   ]
  },
  {
   "cell_type": "code",
   "execution_count": null,
   "id": "f19bb476",
   "metadata": {},
   "outputs": [],
   "source": [
    "process_old_json('Carbon Storage')"
   ]
  },
  {
   "cell_type": "code",
   "execution_count": null,
   "id": "dd565f26",
   "metadata": {},
   "outputs": [],
   "source": [
    "process_old_json('Crop Productivity')"
   ]
  },
  {
   "cell_type": "code",
   "execution_count": null,
   "id": "2f333bf2",
   "metadata": {},
   "outputs": [],
   "source": [
    "process_old_json('Ecosystem Markets')"
   ]
  },
  {
   "cell_type": "code",
   "execution_count": null,
   "id": "b8afdbf8",
   "metadata": {},
   "outputs": [],
   "source": [
    "process_old_json('Energy Potential')"
   ]
  },
  {
   "cell_type": "code",
   "execution_count": null,
   "id": "6649b45b",
   "metadata": {},
   "outputs": [],
   "source": [
    "process_old_json('Engagement with Outdoors')"
   ]
  },
  {
   "cell_type": "code",
   "execution_count": null,
   "id": "8c02008c",
   "metadata": {},
   "outputs": [],
   "source": [
    "process_old_json('Health and Economic Outcomes')"
   ]
  },
  {
   "cell_type": "code",
   "execution_count": null,
   "id": "6cf4a0c5",
   "metadata": {},
   "outputs": [],
   "source": [
    "process_old_json('Land Cover: Near-Water')"
   ]
  },
  {
   "cell_type": "code",
   "execution_count": null,
   "id": "ee31f73c",
   "metadata": {},
   "outputs": [],
   "source": [
    "process_old_json('Land Cover: Type')"
   ]
  },
  {
   "cell_type": "code",
   "execution_count": null,
   "id": "e634df74",
   "metadata": {},
   "outputs": [],
   "source": [
    "process_old_json('Landscape Pattern')"
   ]
  },
  {
   "cell_type": "code",
   "execution_count": null,
   "id": "3ca3d972",
   "metadata": {},
   "outputs": [],
   "source": [
    "process_old_json('Livestock and Poultry Production')"
   ]
  },
  {
   "cell_type": "code",
   "execution_count": null,
   "id": "d80fec2a",
   "metadata": {},
   "outputs": [],
   "source": [
    "process_old_json('Near-Road Environments')"
   ]
  },
  {
   "cell_type": "code",
   "execution_count": null,
   "id": "12294475",
   "metadata": {},
   "outputs": [],
   "source": [
    "process_old_json('Pollutant Reduction: Air')"
   ]
  },
  {
   "cell_type": "code",
   "execution_count": null,
   "id": "71cc0de1",
   "metadata": {},
   "outputs": [],
   "source": [
    "process_old_json('Pollutant Reduction: Water')"
   ]
  },
  {
   "cell_type": "code",
   "execution_count": null,
   "id": "07e9c862",
   "metadata": {},
   "outputs": [],
   "source": [
    "process_old_json('Soils')"
   ]
  },
  {
   "cell_type": "code",
   "execution_count": null,
   "id": "0b9979d5",
   "metadata": {},
   "outputs": [],
   "source": [
    "process_old_json('Species: At-Risk and Priority')"
   ]
  },
  {
   "cell_type": "code",
   "execution_count": null,
   "id": "e32d9e73",
   "metadata": {},
   "outputs": [],
   "source": [
    "process_old_json('Species: Other')"
   ]
  },
  {
   "cell_type": "code",
   "execution_count": null,
   "id": "0aa8d6b8",
   "metadata": {},
   "outputs": [],
   "source": [
    "process_old_json('Water Supply, Runoff, and Flow')"
   ]
  },
  {
   "cell_type": "code",
   "execution_count": null,
   "id": "4a1534d0",
   "metadata": {},
   "outputs": [],
   "source": [
    "process_old_json('Water Use')"
   ]
  },
  {
   "cell_type": "code",
   "execution_count": null,
   "id": "8d9702da",
   "metadata": {},
   "outputs": [],
   "source": [
    "process_old_json('Weather and Climate')"
   ]
  },
  {
   "cell_type": "code",
   "execution_count": null,
   "id": "d0815938",
   "metadata": {},
   "outputs": [],
   "source": [
    "process_old_json('Wetlands and Lowlands')"
   ]
  },
  {
   "cell_type": "code",
   "execution_count": null,
   "id": "5fc126ad",
   "metadata": {},
   "outputs": [],
   "source": [
    "process_old_json('Harmful Algal Blooms')"
   ]
  },
  {
   "cell_type": "code",
   "execution_count": null,
   "id": "5c5641c2",
   "metadata": {},
   "outputs": [],
   "source": [
    "process_old_json('Impaired Waters')"
   ]
  },
  {
   "cell_type": "code",
   "execution_count": null,
   "id": "fd07b0f9",
   "metadata": {},
   "outputs": [],
   "source": [
    "process_old_json('National Air Toxics Assesment')"
   ]
  },
  {
   "cell_type": "code",
   "execution_count": null,
   "id": "6766f79b",
   "metadata": {},
   "outputs": [],
   "source": [
    "process_old_json('Pollutants: Nutrients')"
   ]
  },
  {
   "cell_type": "code",
   "execution_count": null,
   "id": "d6bc0a7a",
   "metadata": {},
   "outputs": [],
   "source": [
    "process_old_json('Pollutants: Other')"
   ]
  },
  {
   "cell_type": "code",
   "execution_count": null,
   "id": "a5c6849f",
   "metadata": {},
   "outputs": [],
   "source": [
    "process_old_json('Sites Reporting to EPA')"
   ]
  },
  {
   "cell_type": "code",
   "execution_count": null,
   "id": "03ca930e",
   "metadata": {},
   "outputs": [],
   "source": [
    "process_old_json('Population Distribution')"
   ]
  },
  {
   "cell_type": "code",
   "execution_count": null,
   "id": "5dd290c8",
   "metadata": {},
   "outputs": [],
   "source": [
    "process_old_json('Hydrologic Features')"
   ]
  },
  {
   "cell_type": "markdown",
   "id": "c19d8e77",
   "metadata": {},
   "source": [
    "# TO DO: formalize this bit"
   ]
  },
  {
   "cell_type": "code",
   "execution_count": null,
   "id": "b69e9aa4",
   "metadata": {},
   "outputs": [],
   "source": [
    "new_df = explode.iloc[:, :2]\n",
    "new_df = new_df.drop_duplicates()\n",
    "new_df"
   ]
  },
  {
   "cell_type": "code",
   "execution_count": null,
   "id": "229e8660",
   "metadata": {},
   "outputs": [],
   "source": [
    "# Create DataCatologItem object\n",
    "# Define a custom function to create a nested structure\n",
    "def custom_nested_structure(row):\n",
    "    return {'Person': {'Name': row['Name'], 'Age': row['Age']}}"
   ]
  },
  {
   "cell_type": "code",
   "execution_count": null,
   "id": "561e4936",
   "metadata": {},
   "outputs": [],
   "source": [
    "output_config_path = '/src/shared/dataCatalog_testInitSubtopicsOnly.json'"
   ]
  },
  {
   "cell_type": "code",
   "execution_count": null,
   "id": "12608740",
   "metadata": {},
   "outputs": [],
   "source": [
    "# Save Subtopic JSON only\n",
    "with open(output_config_path, 'w') as file:\n",
    "    json.dump(data_filtered_subtopics, file)"
   ]
  },
  {
   "cell_type": "markdown",
   "id": "31bbea91",
   "metadata": {},
   "source": [
    "# TO DO: subtopic with 1 layer"
   ]
  },
  {
   "cell_type": "code",
   "execution_count": null,
   "id": "f0909dab",
   "metadata": {},
   "outputs": [],
   "source": [
    "# Filter data to eaID less than 1000 (i.e. layers) \n",
    "data_filtered_layers = [d for d in data if d[\"eaID\"] < 1000]\n",
    "print(data_filtered_layers)"
   ]
  },
  {
   "cell_type": "code",
   "execution_count": null,
   "id": "55292ef9",
   "metadata": {},
   "outputs": [],
   "source": [
    "# Filter out where \"IsSubLayer\" is true (these are retained in the subtopic data)\n",
    "filtered_layers_df = pd.DataFrame(data_filtered_layers)\n",
    "filtered_layers_df.IsSubLayer = filtered_layers_df.IsSubLayer.fillna(False)\n",
    "notSubLayers_dict = filtered_layers_df.loc[filtered_layers_df['IsSubLayer'] == False].to_dict('records')\n",
    "notSubLayers_dict"
   ]
  },
  {
   "cell_type": "code",
   "execution_count": null,
   "id": "a20f1406",
   "metadata": {},
   "outputs": [],
   "source": [
    "output_config_path = '/src/shared/dataCatalog_testInitLayersOnly.json'"
   ]
  },
  {
   "cell_type": "code",
   "execution_count": null,
   "id": "80e95069",
   "metadata": {},
   "outputs": [],
   "source": [
    "# Save Layer JSON only\n",
    "with open(output_config_path, 'w') as file:\n",
    "    json.dump(notSubLayers_dict, file)"
   ]
  }
 ],
 "metadata": {
  "kernelspec": {
   "display_name": "Python 3 (ipykernel)",
   "language": "python",
   "name": "python3"
  },
  "language_info": {
   "codemirror_mode": {
    "name": "ipython",
    "version": 3
   },
   "file_extension": ".py",
   "mimetype": "text/x-python",
   "name": "python",
   "nbconvert_exporter": "python",
   "pygments_lexer": "ipython3",
   "version": "3.11.8"
  }
 },
 "nbformat": 4,
 "nbformat_minor": 5
}
