{
 "cells": [
  {
   "cell_type": "markdown",
   "id": "aa4ed237",
   "metadata": {
    "heading_collapsed": true
   },
   "source": [
    "### Add to map research\n",
    "    - Add Data widget (portal, url)\n",
    "    - How's My Waterway (portal, url, file)\n",
    "    - Summarize My Area"
   ]
  },
  {
   "cell_type": "markdown",
   "id": "4684f074",
   "metadata": {
    "hidden": true
   },
   "source": [
    "#### Add Data widget"
   ]
  },
  {
   "cell_type": "markdown",
   "id": "392f8235",
   "metadata": {
    "heading_collapsed": true,
    "hidden": true
   },
   "source": [
    "#### Map Viewer Browse for layers...addfromonline.js\n",
    "    - async function with try/catch logic \n",
    "    - incorporates whenOnce() method \n",
    "        - https://developers.arcgis.com/javascript/latest/api-reference/esri-core-reactiveUtils.html#whenOnce"
   ]
  },
  {
   "cell_type": "code",
   "execution_count": null,
   "id": "79384b00",
   "metadata": {
    "hidden": true
   },
   "outputs": [],
   "source": [
    "                    async addItemToMap() {\n",
    "                        try {\n",
    "                            var d = this.itemBrowserSelectedItem || this.itemBrowserPreviewSelectedItem;\n",
    "                            let k = await q.toLayer(d, this.isFromAGOL(d), this.state);\n",
    "                            await w.default.whenOnce( () => k.layerId || k.loaded || k.loadError);\n",
    "                            const x = !this.itemBrowserSelectedItem && this.itemBrowserSelectedSublayerItem;\n",
    "                            x && ({id: d} = x,\n",
    "                            k = k.layerId === d ? k : await this.getSublayer(d, k));\n",
    "                            await q.addLayers([k], this.state);\n",
    "                            w.default.whenOnce( () => k.isTable || k.fullExtent || k.loadError || k.loaded).then( () => {\n",
    "                                k.isTable || k.loadError || this.gotoFirstLayer([k], this.state)\n",
    "                            }\n",
    "                            );\n",
    "                            return k\n",
    "                        } catch (k) {\n",
    "                            return Promise.reject(k)\n",
    "                        }\n",
    "                    }"
   ]
  },
  {
   "cell_type": "markdown",
   "id": "9e51e812",
   "metadata": {
    "heading_collapsed": true,
    "hidden": true
   },
   "source": [
    "#### Featured Collections (webmap)\n",
    "    - get layers from a web map"
   ]
  },
  {
   "cell_type": "code",
   "execution_count": null,
   "id": "e90c530f",
   "metadata": {
    "hidden": true
   },
   "outputs": [],
   "source": [
    "_onConfirmation : function(item) {\n",
    "    # this.promptUserToZoomToItem(item);\n",
    "    var self = this;\n",
    "    this.zoomToItem(item);\n",
    "    showLayerListWidget();\n",
    "    testmap = this.map;\n",
    "    tempLayer = false;\n",
    "    # use item.tags and window.communityDic to get the community info\n",
    "            var bIsTaggedCommunity = false;\n",
    "            for (var i in item.tags) {\n",
    "                if (window.communityDic.hasOwnProperty(item.tags[i])) {\n",
    "                    bIsTaggedCommunity = true;\n",
    "                    window.communitySelected = item.tags[i];\n",
    "                    break;\n",
    "                }\n",
    "            }\n",
    "            if (bIsTaggedCommunity) {\n",
    "            \tsetTimeout(function () {  \n",
    "\t                selfAddWebMapData.publishData({\n",
    "\t                    message : \"updateCommunityLayers\"\n",
    "\t                });\n",
    "                }, 3000)\n",
    "            }//\n",
    "            \n",
    "            /*//copied from original widget\n",
    "            var mapConfig = {\n",
    "                    \"itemId\": item.id\n",
    "                };\n",
    "                // this is the official way to do this, but reloads the whole app instead of just the map\n",
    "                //MapManager.getInstance().onAppConfigChanged(this.appConfig, 'mapChange', mapConfig);\n",
    "                ConfigManager.getInstance()._onMapChanged(mapConfig);*/\n",
    "\n",
    "            //get all LayerId before adding layers\n",
    "\n",
    "            item.getItemData().then(function(response) {\n",
    "                //process operational layers in reverse order to match AGOL\n",
    "                layersReversed = response.operationalLayers.reverse();\n",
    "                                \n",
    "                //first push Feature layers so that it will be added at last\n",
    "                layersReversed.forEach(function(l) {\n",
    "                    if (l.url) {\n",
    "                        if (l.id && (l.id != undefined)) {\n",
    "                            if (l.layerType == 'ArcGISFeatureLayer'){\n",
    "                                if (arrlayerId.indexOf(l.id) < 0) {\n",
    "                                    arrlayerId.push(l.id);\n",
    "                                }\n",
    "                            }\n",
    "                        }\n",
    "                    }\n",
    "                });\n",
    "                \n",
    "                \n",
    "                //layersReversed = response.operationalLayers;\n",
    "                //then push Map service layers so that it will be added before Feature layers\n",
    "                layersReversed.forEach(function(l) {\n",
    "                    if (l.url) {\n",
    "                        if (l.id && (l.id != undefined)) {\n",
    "                            if (l.layerType == 'ArcGISMapServiceLayer' || l.layerType == 'ArcGISImageServiceLayer' || l.layerType == 'ArcGISTiledMapServiceLayer'){\n",
    "                                if (arrlayerId.indexOf(l.id) < 0) {\n",
    "                                    arrlayerId.push(l.id);\n",
    "                                }\n",
    "                            }\n",
    "                        }\n",
    "                    }\n",
    "                });\n",
    "\n",
    "                \n",
    "                addAddItemToMapOperational(layersReversed, arrlayerId.pop(), response);\n",
    "\n",
    "            })\n",
    "\n",
    "\n",
    "            setTimeout(lang.hitch(this, function() {\n",
    "                item.getItemData().then(function(response) {\n",
    "                    //process operational layers in reverse order to match AGOL\n",
    "                    layersReversed = response.operationalLayers.reverse();\n",
    "                    layersReversed.forEach(function(l) {\n",
    "                        if (l.url) {\n",
    "                        } else {\n",
    "                            if (l.featureCollection) {\n",
    "                                console.log(\"Web Map Layers:: FeatureCollection\");\n",
    "                                l.featureCollection.layers.forEach(function(subL) {\n",
    "                                    tempLayer = new FeatureLayer(subL, {\n",
    "                                        id : l.id\n",
    "                                    });\n",
    "                                    tempLayer = selfAddWebMapData._processLayer(tempLayer, subL);\n",
    "                                });\n",
    "                            } else {\n",
    "                                console.log(\"Add Layer Error:: Layer of unknown type\");\n",
    "                                if (!(l.url in window.faildedEALayerDictionary)) {\n",
    "                                    window.faildedEALayerDictionary[l.url] = l.url;\n",
    "                                    selfAddWebMapData.publishData({\n",
    "                                        message : \"openFailedLayer\"\n",
    "                                    });\n",
    "                                }\n",
    "                            }\n",
    "                        }\n",
    "                        if (tempLayer) {\n",
    "                            //tempLayer.title = l.title;\n",
    "                            window.layerID_Portal_WebMap.push(l.id);\n",
    "                            testmap.addLayer(tempLayer);\n",
    "                        }\n",
    "                    });\n",
    "                });\n",
    "            }), 4000);\n",
    "            var widgetManager;\n",
    "            var fcDetailsWidgetEle = selfAddWebMapData.appConfig.getConfigElementsByName(\"FeaturedCollectionPreview\")[0];\n",
    "            widgetManager = WidgetManager.getInstance();\n",
    "            widgetManager.closeWidget(fcDetailsWidgetEle.id);\n",
    "            document.getElementById(\"titleForFCWidget\").style.display = \"none\";\n",
    "            document.getElementById(\"closeFCWidgetArea\").style.display = \"none\";\n",
    "            window.fcDetailsOpened = false;\n",
    "        },"
   ]
  },
  {
   "cell_type": "code",
   "execution_count": null,
   "id": "59e13a29",
   "metadata": {
    "hidden": true
   },
   "outputs": [],
   "source": [
    "_processLayer : function(tempLayer, l) {\n",
    "            // Borrowed from AddData/search/LayerLoader.js _processFeatureLayer\n",
    "            var layerDefinition, renderer = false;\n",
    "            \n",
    "        \tvar tileURL = \"\";\n",
    "        \tvar lebURL = \"\";\n",
    "        \tvar eaIDinSearchFilter = \"\";\n",
    "        \tif (window.hashURLtoTile.hasOwnProperty(l.url)) {\n",
    "        \t\ttileURL = window.hashURLtoTile[l.url];\n",
    "        \t}\n",
    "        \telse { \n",
    "        \t\tlebURL = l.url.replace(\"enviroatlas.epa.gov\", \"leb.epa.gov\");\n",
    "        \t\tif(window.hashURLtoTile.hasOwnProperty(lebURL)) {\n",
    "        \t\t\ttileURL = window.hashURLtoTile[lebURL];                \t\n",
    "        \t\t}                \t\t\n",
    "        \t}\n",
    "\n",
    "\n",
    "   \t       for (var key in window.hashURL){//window.hashURL[layer.eaID.toString()] = eaURL; \n",
    "\t\t\t  if ((window.hashURL[key]==l.url) || (window.hashURL[key]==lebURL)) {\n",
    "\t\t\t  \teaIDinSearchFilter = key;\n",
    "\t\t\t  \twindow.hashFeaturedCollectionToEAID[l.id] = eaIDinSearchFilter;  \n",
    "\t\t\t  }\n",
    "\t\t\t}\n",
    " \n",
    "        \tif (tileURL==\"\") {\n",
    "\t            var popInfo, infoTemplate;\n",
    "\t            if (l.popupInfo) {\n",
    "\t                popInfo = l.popupInfo;\n",
    "\t                jsonPopInfo = djJson.parse(djJson.stringify(popInfo));\n",
    "\t                infoTemplate = new PopupTemplate(jsonPopInfo);\n",
    "\t                tempLayer.setInfoTemplate(infoTemplate);\n",
    "\t            }\n",
    "           } else {//Its url matches the EnviroAtlas layer          \t\n",
    "\t\n",
    "   \t            window.featureLyrNumber.push(eaIDinSearchFilter); \n",
    "   \t            // add corresponding tile            \n",
    "            \tlOptions = {};\n",
    "            \tlOptions.visible = l.visibility;\n",
    "            \tlOptions.opacity = l.opacity;\n",
    "                lOptions.id = window.layerIdTiledPrefix + eaIDinSearchFilter;\n",
    "                \n",
    "\n",
    "                this.map.addLayer(new ArcGISTiledMapServiceLayer(tileURL, lOptions));  \n",
    "                             \n",
    "           }\n",
    "           \n",
    "            if (esriLang.isDefined(l.showLabels)) {\n",
    "                tempLayer.setShowLabels(l.showLabels);\n",
    "            }\n",
    "            if (esriLang.isDefined(l.refreshInterval)) {\n",
    "                tempLayer.setRefreshInterval(l.refreshInterval);\n",
    "            }\n",
    "            if (esriLang.isDefined(l.showLegend)) {\n",
    "                // TODO?\n",
    "                console.log('');\n",
    "            }\n",
    "            if (esriLang.isDefined(l.timeAnimation)) {\n",
    "                if (l.timeAnimation === false) {\n",
    "                    // TODO?\n",
    "                    console.log(\"\");\n",
    "                }\n",
    "            }\n",
    "            layerDefinition = l.layerDefinition;\n",
    "            if (layerDefinition) {\n",
    "                console.log(\"layerDefinition\",layerDefinition)\n",
    "                if (layerDefinition.definitionExpression) {\n",
    "                    tempLayer.setDefinitionExpression(layerDefinition.definitionExpression);\n",
    "                }\n",
    "                if (layerDefinition.displayField) {\n",
    "                    tempLayer.displayField(layerDefinition.displayField);\n",
    "                }\n",
    "                if (layerDefinition.drawingInfo) {\n",
    "                    if (layerDefinition.drawingInfo.renderer) {\n",
    "                        jsonRenderer = djJson.parse(djJson.stringify(layerDefinition.drawingInfo.renderer));\n",
    "                        renderer = jsonRendererUtils.fromJson(jsonRenderer);\n",
    "                        if (jsonRenderer.type && (jsonRenderer.type === \"classBreaks\")) {\n",
    "                            renderer.isMaxInclusive = true;\n",
    "                        }\n",
    "                        tempLayer.setRenderer(renderer);\n",
    "                    }\n",
    "                    if (esriLang.isDefined(layerDefinition.drawingInfo.transparency)) {\n",
    "                        // TODO validate before setting?\n",
    "                        tempLayer.setOpacity(1 - (layerDefinition.drawingInfo.transparency / 100));\n",
    "                    }\n",
    "                }\n",
    "\n",
    "                if (esriLang.isDefined(layerDefinition.minScale)) {\n",
    "                    tempLayer.setMinScale(layerDefinition.minScale);\n",
    "                }\n",
    "                if (esriLang.isDefined(layerDefinition.maxScale)) {\n",
    "                    tempLayer.setMaxScale(layerDefinition.maxScale);\n",
    "                }\n",
    "                if (esriLang.isDefined(layerDefinition.defaultVisibility)) {\n",
    "                    if (layerDefinition.defaultVisibility === false) {\n",
    "                        tempLayer.setVisibility(false);\n",
    "                        // TODO?\n",
    "                    }\n",
    "                }\n",
    "            }\n",
    "            return tempLayer;\n",
    "        }"
   ]
  },
  {
   "cell_type": "code",
   "execution_count": null,
   "id": "665457b9",
   "metadata": {
    "hidden": true
   },
   "outputs": [],
   "source": [
    "var addAddItemToMapOperational = function(layersReversed, layerId, response) {\n",
    "        layersReversed.forEach(function(l) {\n",
    "            if ((l.url) && (l.id == layerId)) {\n",
    "\n",
    "                if (l.layerType == 'ArcGISTiledMapServiceLayer') {\n",
    "                    tempLayer = new ArcGISTiledMapServiceLayer(l.url, {\n",
    "                        id : l.id,\n",
    "                        opacity : l.opacity,\n",
    "                        visible : l.visibility\n",
    "                    });\n",
    "                    tempLayer.title = l.title;\n",
    "                }else if (l.layerType == 'ArcGISImageServiceLayer') {\n",
    "                    tempLayer = new ArcGISImageServiceLayer(l.url, {\n",
    "                        id : l.id,\n",
    "                        opacity : l.opacity,\n",
    "                        visible : l.visibility\n",
    "                    });\n",
    "                    tempLayer.title = l.title;\n",
    "                    tempLayer = selfAddWebMapData._processLayer(tempLayer, l);\n",
    "                } else if (l.layerType == 'ArcGISFeatureLayer') {\n",
    "                    tempLayer = new FeatureLayer(l.url, {\n",
    "                        mode : FeatureLayer.MODE_ONDEMAND,\n",
    "                        id : l.id,\n",
    "                        opacity : l.opacity,\n",
    "                        visible : l.visibility,\n",
    "                        outFields : [\"*\"],\n",
    "                    });\n",
    "                    tempLayer.title = l.title;\n",
    "                    tempLayer = selfAddWebMapData._processLayer(tempLayer, l);\n",
    "                } else if (l.layerType == 'ArcGISMapServiceLayer') {\n",
    "                    tempLayer = new ArcGISDynamicMapServiceLayer(l.url, {\n",
    "                        id : l.id,\n",
    "                        opacity : l.opacity,\n",
    "                        visible : l.visibility,\n",
    "                        \"showAttribution\" : false\n",
    "                    });\n",
    "           \n",
    "                    tempLayer.title = l.title;\n",
    "                    //if layers have popupInfo grab them\n",
    "                    if (l.layers) {\n",
    "                        var expressions = [];\n",
    "                        var dynamicLayerInfo;\n",
    "                        var dynamicLayerInfos = [];\n",
    "                        var drawingOptions;\n",
    "                        var drawingOptionsArray = [];\n",
    "                        var source;\n",
    "                        var _infoTemps = {};\n",
    "                        var indexTemplate = 0;\n",
    "                        array.forEach(l.layers, function(layerInfo) {\n",
    "                            if (layerInfo.layerDefinition && layerInfo.layerDefinition.definitionExpression) {\n",
    "                                expressions[layerInfo.id] = layerInfo.layerDefinition.definitionExpression;\n",
    "                            }\n",
    "                            //get infoTemplate\n",
    "                            /*if (layerInfo.popupInfo) {\n",
    "                                popInfo = layerInfo.popupInfo;\n",
    "                                jsonPopInfo = djJson.parse(djJson.stringify(popInfo));\n",
    "                                //infoTemplate = new PopupTemplate(jsonPopInfo);\n",
    "                                //var json = {title:popInfo.title,\n",
    "                                //     content:  popInfo.description.substring(1,popInfo.description.length - 1) + \":\" + \"$\"+ popInfo.description//\"State Name: ${STATE_NAME}\"\n",
    "                                //}\n",
    "                                //infoTemplate = new PopupTemplate(json);\n",
    "\n",
    "                                infoTemplate = new PopupTemplate({\n",
    "                                    title : layerInfo.name,\n",
    "                                    fieldInfos : [{\n",
    "                                        fieldName : popInfo.description.substring(1, popInfo.description.length - 1),\n",
    "                                        visible : true,\n",
    "                                        label : \"\",\n",
    "                                        content : \"$\" + popInfo.description\n",
    "                                    }]\n",
    "                                })\n",
    "                                _infoTemps[indexTemplate] = {};\n",
    "                                _infoTemps[indexTemplate][\"infoTemplate\"] = infoTemplate;\n",
    "\n",
    "                                //tempLayer.setInfoTemplate(infoTemplate);\n",
    "                            }*/\n",
    "                            //end of getting infoTemplate\n",
    "                            if (layerInfo.layerDefinition && layerInfo.layerDefinition.source) {\n",
    "                                dynamicLayerInfo = null;\n",
    "                                source = layerInfo.layerDefinition.source;\n",
    "                                if (source.type === \"mapLayer\") {\n",
    "\n",
    "                                    var metaLayerInfos = array.filter(response.operationalLayers, function(rlyr) {\n",
    "                                        return rlyr.id === source.mapLayerId;\n",
    "                                    });\n",
    "                                    if (metaLayerInfos.length) {\n",
    "                                        dynamicLayerInfo = lang.mixin(metaLayerInfos[0], layerInfo);\n",
    "                                    }\n",
    "                                } else {\n",
    "                                    dynamicLayerInfo = lang.mixin({}, layerInfo);\n",
    "                                }\n",
    "                                if (dynamicLayerInfo) {\n",
    "                                    dynamicLayerInfo.source = source;\n",
    "                                    delete dynamicLayerInfo.popupInfo;\n",
    "                                    dynamicLayerInfo = new DynamicLayerInfo(dynamicLayerInfo);\n",
    "                                    if (l.visibleLayers) {\n",
    "                                        var vis = (( typeof l.visibleLayers) === \"string\") ? l.visibleLayers.split(\",\") : l.visibleLayers;\n",
    "                                        if (array.indexOf(vis, layerInfo.id) > -1) {\n",
    "                                            dynamicLayerInfo.defaultVisibility = true;\n",
    "                                        } else {\n",
    "                                            dynamicLayerInfo.defaultVisibility = false;\n",
    "                                        }\n",
    "                                    }\n",
    "                                    dynamicLayerInfos.push(dynamicLayerInfo);\n",
    "                                }\n",
    "                            } \n",
    "                            if (layerInfo.layerDefinition && layerInfo.layerDefinition.source && layerInfo.layerDefinition.drawingInfo) {\n",
    "                                drawingOptions = new LayerDrawingOptions(layerInfo.layerDefinition.drawingInfo);\n",
    "                                drawingOptionsArray[layerInfo.id] = drawingOptions;\n",
    "                            }\n",
    "                            indexTemplate = indexTemplate + 1;\n",
    "                        });\n",
    "                        tempLayer.setInfoTemplates(_infoTemps);\n",
    "\n",
    "                        if (expressions.length > 0) {\n",
    "                            tempLayer.setLayerDefinitions(expressions);\n",
    "                        }\n",
    "                        if (dynamicLayerInfos.length > 0) {\n",
    "                            tempLayer.setDynamicLayerInfos(dynamicLayerInfos, true);\n",
    "                        }\n",
    "                        if (drawingOptionsArray.length > 0) {\n",
    "                            tempLayer.setLayerDrawingOptions(drawingOptionsArray, true);\n",
    "                        }\n",
    "\n",
    "                    } else if (l.visibleLayers) {\n",
    "                        tempLayer.setVisibleLayers(l.visibleLayers);\n",
    "                    }\n",
    "\n",
    "                }\n",
    "            }\n",
    "\n",
    "            if (tempLayer) {\n",
    "                tempLayer.on('load', function(evt) {\n",
    "                    var chkToBeClicked =  null;\n",
    "                        \n",
    "                    var i = 0;                     //  set your counter to 1\n",
    "                    var maximumCount = 10;                    \n",
    "                                 \n",
    "                    if (arrlayerId.length > 0) {\n",
    "                        setTimeout(lang.hitch(this, function() {\n",
    "                            addAddItemToMapOperational(layersReversed, arrlayerId.pop(), response);\n",
    "                        }), 10);\n",
    "                    }\n",
    "                });\n",
    "                window.layerID_Portal_WebMap.push(l.id);\n",
    "                testmap.addLayer(tempLayer);\n",
    "            }\n",
    "        });\n",
    "\n",
    "    };"
   ]
  },
  {
   "cell_type": "markdown",
   "id": "910757ba",
   "metadata": {
    "heading_collapsed": true,
    "hidden": true
   },
   "source": [
    "#### Time Series (image server)\n",
    "    - new imageservice layer, set properties, add to map\n",
    "    - after on map, open layer list widget\n",
    "    - specify metadata?\n",
    "    - add data using url parameter"
   ]
  },
  {
   "cell_type": "code",
   "execution_count": null,
   "id": "8829a78e",
   "metadata": {
    "hidden": true
   },
   "outputs": [],
   "source": [
    "        var imageServiceLayer = new ArcGISImageServiceLayer(selectedImageService,{imageServiceParameters: params});\n",
    "        imageServiceLayer.id = window.timeSeriesLayerId;\n",
    "        imageServiceLayer.name = \"TimeSeries_\" + modelValue + \"_\" + season + \"_\" + climateVar;\n",
    "        imageServiceLayer.title = \"TimeSeries_\" + modelValue + \"_\" + season + \"_\" + climateVar;\n",
    "        imageServiceLayer.setOpacity(0.6);\n",
    "        // window.climateTimeSeriesFromURL = imageServiceLayer.url\n",
    "        \n",
    "        map.addLayers([imageServiceLayer]);\n",
    "        \n",
    "        //Turn on Identify capability after the layer is added to the map\n",
    "        mapClickListener = map.on(\"click\", executeIdentifyTask);\n",
    "        \n",
    "        imageServiceLayer.on(\"load\", function(){\n",
    "            //var modelId = dijit.byId(\"modelSelection\").item.id;\n",
    "\t        var unit = \"\";\n",
    "            if ((climateVar == \"TempMax\") ||(climateVar == \"TempMin\")) {\n",
    "            \tunit = \"Degrees F\";                \n",
    "            } else if ((climateVar == \"Precip\") ||(climateVar == \"PET\")) {\n",
    "            \tunit = \"Inches\";                \n",
    "            } \t   \n",
    "\t        //setMetadataTab(modelId + \" (\" + modelValue + \"), \" + season + \" <br/>\" + climateId + \" (\" + unit + \")<br/><hr>\" + comment);\n",
    "\t        setMetadataTab(modelValue + \", \" + season + \" <br/>\" + climateVar + \" (\" + unit + \")<br/><hr>\" + comment);           \n",
    "\t        showLayerListWidget();       "
   ]
  },
  {
   "cell_type": "markdown",
   "id": "622f5d84",
   "metadata": {
    "heading_collapsed": true,
    "hidden": true
   },
   "source": [
    "#### Simple Search Filter\n",
    "    - layer.types = [IMAGE, WEBTILEDLAYER, WEBTILEDBASEMAP, FEATURE, TILED, WMS]\n",
    "    - scale levels for tile vs feature\n",
    "    - set popup template (\"showAttachements\", \"description\" no longer a prop)"
   ]
  },
  {
   "cell_type": "code",
   "execution_count": null,
   "id": "b25b1740",
   "metadata": {
    "hidden": true
   },
   "outputs": [],
   "source": [
    "var _addSelectedLayers = function (layersTobeAdded, selectedLayerNum) {\n",
    "\t\t\tvar index,\n",
    "\t\t\t\tlen;\n",
    "\t\t\tvar selectedLayerArray = selectedLayerNum.split(\",\");\n",
    "\t\t\tfor (i in selectedLayerArray) {\n",
    "\t\t\t\tfor (index = 0,\n",
    "\t\t\t\t\tlen = layersTobeAdded.length; index < len; ++index) {\n",
    "\t\t\t\t\tlayer = layersTobeAdded[index];\n",
    "\t\t\t\t\tif (layer.hasOwnProperty('eaID') && ((selectedLayerArray[i]) == (layer.eaID.toString()))) {\n",
    "\t\t\t\t\t\tvar bNeedToBeAdded = true;\n",
    "\t\t\t\t\t\tvar lLayer;\n",
    "\t\t\t\t\t\tvar lOptions = {};\n",
    "\t\t\t\t\t\tif (layer.hasOwnProperty('opacity')) {\n",
    "\t\t\t\t\t\t\tlOptions.opacity = layer.opacity;\n",
    "\t\t\t\t\t\t\t// 1.0 has no transparency; 0.0 is 100% transparent\n",
    "\t\t\t\t\t\t}\n",
    "\t\t\t\t\t\t/*if (layer.hasOwnProperty('visible') && !layer.visible) {\n",
    "\t\t\t\t\t\t\tlOptions.visible = false;\n",
    "\t\t\t\t\t\t} else {\n",
    "\t\t\t\t\t\t\tlOptions.visible = true;\n",
    "\t\t\t\t\t\t}*/\n",
    "\t\t\t\t\t\tlOptions.visible = true;\n",
    "\t\t\t\t\t\tif (layer.name) {\n",
    "\t\t\t\t\t\t\tlOptions.id = layer.name;\n",
    "\t\t\t\t\t\t}\n",
    "\t\t\t\t\t\tif (layer.hasOwnProperty('hidelayers')) {\n",
    "\t\t\t\t\t\t\tif (layer.hidelayers) {\n",
    "\t\t\t\t\t\t\t\tlOptions.hidelayers = [];\n",
    "\t\t\t\t\t\t\t\tlOptions.hidelayers = layer.hidelayers.split(',');\n",
    "\t\t\t\t\t\t\t}\n",
    "\t\t\t\t\t\t}\n",
    "\t\t\t\t\t\tif (layer.hasOwnProperty('drawSelectLayer')) {\n",
    "\t\t\t\t\t\t\tif (layer.drawSelectLayer) {\n",
    "\t\t\t\t\t\t\t\tlOptions.visiblelayers = layer.drawSelectLayer.map(Number);\n",
    "\t\t\t\t\t\t\t}\n",
    "\t\t\t\t\t\t}\n",
    "\t\t\t\t\t\tif (layer.hasOwnProperty('minScale')) {\n",
    "\t\t\t\t\t\t\tlOptions.minScale = layer.minScale\n",
    "\t\t\t\t\t\t}\n",
    "\t\t\t\t\t\tif (layer.hasOwnProperty('maxScale')) {\n",
    "\t\t\t\t\t\t\tlOptions.maxScale = layer.maxScale\n",
    "\t\t\t\t\t\t}\n",
    "\t\t\t\t\t\tif (layer.type.toUpperCase() === 'DYNAMIC') {\n",
    "\t\t\t\t\t\t\twindow.dynamicLayerNumber.push(layer.eaID);\n",
    "\t\t\t\t\t\t\tif (layer.imageformat) {\n",
    "\t\t\t\t\t\t\t\tvar ip = new ImageParameters();\n",
    "\t\t\t\t\t\t\t\tip.format = layer.imageformat;\n",
    "\t\t\t\t\t\t\t\tif (layer.hasOwnProperty('imagedpi')) {\n",
    "\t\t\t\t\t\t\t\t\tip.dpi = layer.imagedpi;\n",
    "\t\t\t\t\t\t\t\t}\n",
    "\t\t\t\t\t\t\t\tlOptions.imageParameters = ip;\n",
    "\t\t\t\t\t\t\t}\n",
    "\t\t\t\t\t\t\tlLayer = new ArcGISDynamicMapServiceLayer(layer.url, lOptions);\n",
    "\n",
    "\t\t\t\t\t\t\tif (layer.hasOwnProperty('definitionQueries')) {\n",
    "\t\t\t\t\t\t\t\tvar definitionQueries = JSON.parse(layer.definitionQueries)\n",
    "\t\t\t\t\t\t\t\tvar layerDefinitions = []\n",
    "\t\t\t\t\t\t\t\tfor (var prop in definitionQueries) {\n",
    "\t\t\t\t\t\t\t\t\tlayerDefinitions[prop] = definitionQueries[prop];\n",
    "\t\t\t\t\t\t\t\t}\n",
    "\t\t\t\t\t\t\t\tlLayer.setLayerDefinitions(layerDefinitions);\n",
    "\t\t\t\t\t\t\t}\n",
    "\t\t\t\t\t\t\tif (layer.name) {\n",
    "\t\t\t\t\t\t\t\tlLayer._titleForLegend = layer.name;\n",
    "\t\t\t\t\t\t\t\tlLayer.title = layer.name;\n",
    "\t\t\t\t\t\t\t\twindow.hashTitleToEAID[layer.name] = layer.eaID;\n",
    "\t\t\t\t\t\t\t\twindow.hashEAIDToTitle[layer.eaID] = layer.name;\n",
    "\t\t\t\t\t\t\t\tlLayer.noservicename = true;\n",
    "\t\t\t\t\t\t\t}\n",
    "\t\t\t\t\t\t\tvar popupConfig = jimuUtils.getPopups(layer);\n",
    "\t\t\t\t\t\t\tlLayer.setInfoTemplates(popupConfig);\n",
    "\n",
    "\t\t\t\t\t\t\tif (layer.hasOwnProperty('autorefresh')) {\n",
    "\t\t\t\t\t\t\t\tlLayer.refreshInterval = layer.autorefresh;\n",
    "\n",
    "\t\t\t\t\t\t\t}\n",
    "\t\t\t\t\t\t\tif (layer.disableclientcaching) {\n",
    "\t\t\t\t\t\t\t\tlLayer.setDisableClientCaching(true);\n",
    "\t\t\t\t\t\t\t}\n",
    "\t\t\t\t\t\t\tlLayer.on('error', function (evt) {\n",
    "\t\t\t\t\t\t\t\tconsole.log(evt);\n",
    "\t\t\t\t\t\t\t})\n",
    "\n",
    "\t\t\t\t\t\t\tlLayer.on('load', function (evt) {\n",
    "\t\t\t\t\t\t\t\tif (layer.flyPopups) {\n",
    "\t\t\t\t\t\t\t\t\tvar _infoTemps = []\n",
    "\t\t\t\t\t\t\t\t\tevt.layer.layerInfos.forEach(function (layer) {\n",
    "\t\t\t\t\t\t\t\t\t\t_infoTemps.push({\n",
    "\t\t\t\t\t\t\t\t\t\t\tinfoTemplate: new PopupTemplate({\n",
    "\t\t\t\t\t\t\t\t\t\t\t\ttitle: layer.name,\n",
    "\t\t\t\t\t\t\t\t\t\t\t\tfieldInfos: [{\n",
    "\t\t\t\t\t\t\t\t\t\t\t\t\tfieldName: \"*\",\n",
    "\t\t\t\t\t\t\t\t\t\t\t\t\tvisible: true,\n",
    "\t\t\t\t\t\t\t\t\t\t\t\t\tlabel: \"*\"\n",
    "\t\t\t\t\t\t\t\t\t\t\t\t}]\n",
    "\t\t\t\t\t\t\t\t\t\t\t})\n",
    "\t\t\t\t\t\t\t\t\t\t})\n",
    "\t\t\t\t\t\t\t\t\t})\n",
    "\t\t\t\t\t\t\t\t\tevt.layer.setInfoTemplates(_infoTemps)\n",
    "\t\t\t\t\t\t\t\t}\n",
    "\t\t\t\t\t\t\t\t//set min/max scales if present\n",
    "\t\t\t\t\t\t\t\tif (lOptions.minScale) {\n",
    "\t\t\t\t\t\t\t\t\tevt.layer.setMinScale(lOptions.minScale)\n",
    "\t\t\t\t\t\t\t\t}\n",
    "\t\t\t\t\t\t\t\tif (lOptions.maxScale) {\n",
    "\t\t\t\t\t\t\t\t\tevt.layer.setMaxScale(lOptions.maxScale)\n",
    "\t\t\t\t\t\t\t\t}\n",
    "\n",
    "\t\t\t\t\t\t\t\tif (!lOptions.hasOwnProperty('hidelayers')) {\n",
    "\t\t\t\t\t\t\t\t\tlOptions.hidelayers = []\n",
    "\t\t\t\t\t\t\t\t}\n",
    "\t\t\t\t\t\t\t\tvar removeLayers = []\n",
    "\t\t\t\t\t\t\t\tfor (var i = 0; i < lOptions.hidelayers.length; i++) {\n",
    "\t\t\t\t\t\t\t\t\tlOptions.hidelayers[i] = parseInt(lOptions.hidelayers[i])\n",
    "\t\t\t\t\t\t\t\t}\n",
    "\t\t\t\t\t\t\t\tvar showLayers = []\n",
    "\t\t\t\t\t\t\t\tarray.forEach(evt.layer.layerInfos, function (layer) {\n",
    "\t\t\t\t\t\t\t\t\tshowLayers.push(layer.id)\n",
    "\t\t\t\t\t\t\t\t})\n",
    "\t\t\t\t\t\t\t\tarray.forEach(lOptions.hidelayers, function (id) {\n",
    "\t\t\t\t\t\t\t\t\tshowLayers.splice(showLayers.indexOf(id), 1)\n",
    "\t\t\t\t\t\t\t\t})\n",
    "\t\t\t\t\t\t\t\tlOptions.hidelayers = showLayers\n",
    "\t\t\t\t\t\t\t\tvar getArrayItemById = function (_array, _id) {\n",
    "\t\t\t\t\t\t\t\t\tvar _matchItem;\n",
    "\t\t\t\t\t\t\t\t\tarray.some(_array, function (_arrayItem) {\n",
    "\t\t\t\t\t\t\t\t\t\tif (_arrayItem.id == _id) {\n",
    "\t\t\t\t\t\t\t\t\t\t\t_matchItem = _arrayItem;\n",
    "\t\t\t\t\t\t\t\t\t\t\treturn true;\n",
    "\t\t\t\t\t\t\t\t\t\t}\n",
    "\t\t\t\t\t\t\t\t\t})\n",
    "\t\t\t\t\t\t\t\t\treturn _matchItem;\n",
    "\t\t\t\t\t\t\t\t}\n",
    "\t\t\t\t\t\t\t\tarray.forEach(evt.layer.layerInfos, function (layer) {\n",
    "\t\t\t\t\t\t\t\t\tlayer.defaultVisibility = false;\n",
    "\t\t\t\t\t\t\t\t})\n",
    "\t\t\t\t\t\t\t\tfor (var i = 0; i < lOptions.hidelayers.length; i++) {\n",
    "\t\t\t\t\t\t\t\t\tgetArrayItemById(evt.layer.layerInfos, lOptions.hidelayers[i]).defaultVisibility = true;\n",
    "\t\t\t\t\t\t\t\t}\n",
    "\t\t\t\t\t\t\t\tarray.forEach(evt.layer.layerInfos, function (layer) {\n",
    "\t\t\t\t\t\t\t\t\tif (layer.subLayerIds) {\n",
    "\t\t\t\t\t\t\t\t\t\tif (removeLayers.indexOf(layer.id) == -1) {\n",
    "\t\t\t\t\t\t\t\t\t\t\tremoveLayers.push(layer.id)\n",
    "\t\t\t\t\t\t\t\t\t\t};\n",
    "\t\t\t\t\t\t\t\t\t}\n",
    "\t\t\t\t\t\t\t\t})\n",
    "\t\t\t\t\t\t\t\tfor (var i = 0; i < lOptions.hidelayers.length; i++) {\n",
    "\t\t\t\t\t\t\t\t\tvar j = getArrayItemById(evt.layer.layerInfos, lOptions.hidelayers[i]).parentLayerId\n",
    "\t\t\t\t\t\t\t\t\twhile (j > -1) {\n",
    "\t\t\t\t\t\t\t\t\t\tif (lOptions.hidelayers.indexOf(j) == -1) {\n",
    "\t\t\t\t\t\t\t\t\t\t\tif (removeLayers.indexOf(lOptions.hidelayers[i]) == -1) {\n",
    "\t\t\t\t\t\t\t\t\t\t\t\tremoveLayers.push(lOptions.hidelayers[i])\n",
    "\t\t\t\t\t\t\t\t\t\t\t}\n",
    "\t\t\t\t\t\t\t\t\t\t}\n",
    "\t\t\t\t\t\t\t\t\t\tj = getArrayItemById(evt.layer.layerInfos, j).parentLayerId;\n",
    "\t\t\t\t\t\t\t\t\t}\n",
    "\t\t\t\t\t\t\t\t}\n",
    "\t\t\t\t\t\t\t\tarray.forEach(removeLayers, function (layerId) {\n",
    "\t\t\t\t\t\t\t\t\tif (lOptions.hidelayers.indexOf(layerId) > -1) {\n",
    "\t\t\t\t\t\t\t\t\t\tlOptions.hidelayers.splice(lOptions.hidelayers.indexOf(layerId), 1)\n",
    "\t\t\t\t\t\t\t\t\t};\n",
    "\t\t\t\t\t\t\t\t})\n",
    "\t\t\t\t\t\t\t\tif (lOptions.hidelayers.length == 0) {\n",
    "\t\t\t\t\t\t\t\t\tlOptions.hidelayers.push(-1);\n",
    "\t\t\t\t\t\t\t\t\tlOptions.hidelayers.push(-1);\n",
    "\t\t\t\t\t\t\t\t\tlOptions.hidelayers.push(-1);\n",
    "\t\t\t\t\t\t\t\t}\n",
    "\n",
    "\t\t\t\t\t\t\t\t//evt.layer.setVisibleLayers(lOptions.hidelayers);\n",
    "\t\t\t\t\t\t\t\tif (lOptions.visiblelayers) {\n",
    "\t\t\t\t\t\t\t\t\tevt.layer.setVisibleLayers([-1], true);\n",
    "\t\t\t\t\t\t\t\t\tsetTimeout(lang.hitch(this, function () {\n",
    "\t\t\t\t\t\t\t\t\t\tevt.layer.setVisibleLayers(lOptions.visiblelayers, true);\n",
    "\t\t\t\t\t\t\t\t\t\t//evt.layer.setVisibleLayers([12],true);\n",
    "\t\t\t\t\t\t\t\t\t}), 2000);\n",
    "\t\t\t\t\t\t\t\t}\n",
    "\t\t\t\t\t\t\t\tif (layer.hasOwnProperty('hideInLegends')) {\n",
    "\t\t\t\t\t\t\t\t\tvar hideLegends = JSON.parse(layer.hideInLegends)\n",
    "\t\t\t\t\t\t\t\t\tvar finalLegends = []\n",
    "\t\t\t\t\t\t\t\t\tfor (var prop in hideLegends) {\n",
    "\t\t\t\t\t\t\t\t\t\tarray.forEach(evt.layer.layerInfos, lang.hitch(this, function (layerInfo) {\n",
    "\t\t\t\t\t\t\t\t\t\t\tif (layerInfo.id == parseInt(prop)) {\n",
    "\t\t\t\t\t\t\t\t\t\t\t\tlayerInfo.showLegend = !hideLegends[prop]\n",
    "\t\t\t\t\t\t\t\t\t\t\t}\n",
    "\t\t\t\t\t\t\t\t\t\t}))\n",
    "\t\t\t\t\t\t\t\t\t}\n",
    "\t\t\t\t\t\t\t\t}\n",
    "\t\t\t\t\t\t\t\tlLayer.layers = evt.layer.layerInfos\n",
    "\t\t\t\t\t\t\t});\n",
    "\n",
    "\t\t\t\t\t\t\tthis._viewerMap.setInfoWindowOnClick(true);\n",
    "\t\t\t\t\t\t} else if (layer.type.toUpperCase() === 'IMAGE') {\n",
    "\t\t\t\t\t\t\twindow.imageLayerNumber.push(layer.eaID);\n",
    "\t\t\t\t\t\t\tlOptions.imageServiceParameters = new ImageServiceParameters();\n",
    "\t\t\t\t\t\t\tvar _popupTemplate;\n",
    "\t\t\t\t\t\t\tif (layer.popup) {\n",
    "\t\t\t\t\t\t\t\t_popupTemplate = new PopupTemplate(layer.popup);\n",
    "\t\t\t\t\t\t\t\tlOptions.infoTemplate = _popupTemplate;\n",
    "\t\t\t\t\t\t\t}\n",
    "\t\t\t\t\t\t\tlLayer = new ArcGISImageServiceLayer(layer.url, lOptions)\n",
    "\t\t\t\t\t\t\tif (layer.hasOwnProperty('hideInLegend')) {\n",
    "\t\t\t\t\t\t\t\tlLayer.showLegend = !layer.hideInLegend\n",
    "\t\t\t\t\t\t\t}\n",
    "\t\t\t\t\t\t\tif (layer.name) {\n",
    "\t\t\t\t\t\t\t\tlLayer._titleForLegend = layer.name;\n",
    "\t\t\t\t\t\t\t\tlLayer.title = layer.name;\n",
    "\t\t\t\t\t\t\t\twindow.hashTitleToEAID[layer.name] = layer.eaID;\n",
    "\t\t\t\t\t\t\t\twindow.hashEAIDToTitle[layer.eaID] = layer.name;\n",
    "\t\t\t\t\t\t\t\tlLayer.noservicename = true;\n",
    "\t\t\t\t\t\t\t}\n",
    "\t\t\t\t\t\t\tlLayer.on('load', function (evt) {\n",
    "\t\t\t\t\t\t\t\tif (lOptions.minScale) {\n",
    "\t\t\t\t\t\t\t\t\tevt.layer.setMinScale(lOptions.minScale)\n",
    "\t\t\t\t\t\t\t\t}\n",
    "\t\t\t\t\t\t\t\tif (lOptions.maxScale) {\n",
    "\t\t\t\t\t\t\t\t\tevt.layer.setMaxScale(lOptions.maxScale)\n",
    "\t\t\t\t\t\t\t\t}\n",
    "\t\t\t\t\t\t\t\tevt.layer.name = lOptions.id;\n",
    "\t\t\t\t\t\t\t});\n",
    "\t\t\t\t\t\t\t//_layersToAdd.push(lLayer);\n",
    "\t\t\t\t\t\t} else if (layer.type.toUpperCase() === 'WEBTILEDLAYER') {\n",
    "\t\t\t\t\t\t\tif (layer.hasOwnProperty('subdomains')) {\n",
    "\t\t\t\t\t\t\t\tlOptions.subDomains = layer.subdomains;\n",
    "\t\t\t\t\t\t\t}\n",
    "\t\t\t\t\t\t\tif (layer.hasOwnProperty('autorefresh')) {\n",
    "\t\t\t\t\t\t\t\tlOptions.refreshInterval = layer.autorefresh;\n",
    "\t\t\t\t\t\t\t}\n",
    "\t\t\t\t\t\t\tif (layer.hasOwnProperty('opacity')) {\n",
    "\t\t\t\t\t\t\t\tlOptions.opacity = layer.opacity;\n",
    "\t\t\t\t\t\t\t}\n",
    "\t\t\t\t\t\t\tlLayer = new WebTiledLayer(layer.url, lOptions)\n",
    "\t\t\t\t\t\t\tlLayer.on('load', function (evt) {\n",
    "\t\t\t\t\t\t\t\tif (lOptions.minScale) {\n",
    "\t\t\t\t\t\t\t\t\tevt.layer.setMinScale(lOptions.minScale)\n",
    "\t\t\t\t\t\t\t\t}\n",
    "\t\t\t\t\t\t\t\tif (lOptions.maxScale) {\n",
    "\t\t\t\t\t\t\t\t\tevt.layer.setMaxScale(lOptions.maxScale)\n",
    "\t\t\t\t\t\t\t\t}\n",
    "\t\t\t\t\t\t\t\tevt.layer.name = lOptions.id;\n",
    "\t\t\t\t\t\t\t});\n",
    "\t\t\t\t\t\t\t_layersToAdd.push(lLayer);\n",
    "\t\t\t\t\t\t} else if (layer.type.toUpperCase() === 'WEBTILEDBASEMAP') {\n",
    "\t\t\t\t\t\t\tlOptions.type = \"WebTiledLayer\"\n",
    "\t\t\t\t\t\t\tlOptions.url = layer.url\n",
    "\t\t\t\t\t\t\tif (layer.hasOwnProperty('subdomains')) {\n",
    "\t\t\t\t\t\t\t\tlOptions.subDomains = layer.subdomains;\n",
    "\t\t\t\t\t\t\t}\n",
    "\t\t\t\t\t\t\tif (layer.hasOwnProperty('autorefresh')) {\n",
    "\t\t\t\t\t\t\t\tlOptions.refreshInterval = layer.autorefresh;\n",
    "\t\t\t\t\t\t\t}\n",
    "\t\t\t\t\t\t\tif (layer.hasOwnProperty('opacity')) {\n",
    "\t\t\t\t\t\t\t\tlOptions.opacity = layer.opacity;\n",
    "\t\t\t\t\t\t\t}\n",
    "\t\t\t\t\t\t\tif (layer.hasOwnProperty('copyright')) {\n",
    "\t\t\t\t\t\t\t\tlOptions.copyright = layer.copyright;\n",
    "\t\t\t\t\t\t\t}\n",
    "\t\t\t\t\t\t\tvar _newBasemap = new Basemap({\n",
    "\t\t\t\t\t\t\t\tid: 'defaultBasemap',\n",
    "\t\t\t\t\t\t\t\ttitle: layer.name,\n",
    "\t\t\t\t\t\t\t\tlayers: [new BasemapLayer(lOptions)]\n",
    "\t\t\t\t\t\t\t});\n",
    "\t\t\t\t\t\t\tvar _basemapGallery = new BasemapGallery({\n",
    "\t\t\t\t\t\t\t\tshowArcGISBasemaps: false,\n",
    "\t\t\t\t\t\t\t\tmap: this._viewerMap\n",
    "\t\t\t\t\t\t\t}, '_tmpBasemapGallery');\n",
    "\t\t\t\t\t\t\t_basemapGallery.add(_newBasemap);\n",
    "\t\t\t\t\t\t\t_basemapGallery.select('defaultBasemap');\n",
    "\t\t\t\t\t\t\t_basemapGallery.destroy();\n",
    "\t\t\t\t\t\t} else if (layer.type.toUpperCase() === 'FEATURE') {\n",
    "\t\t\t\t\t\t\twindow.featureLyrNumber.push(layer.eaID);\n",
    "\t\t\t\t\t\t\tbPopup = true;\n",
    "\t\t\t\t\t\t\tvar _popupTemplate;\n",
    "\t\t\t\t\t\t\tif (layer.popup) {\n",
    "\t\t\t\t\t\t\t\twindow.hashPopup[layer.eaID] = layer.popup;\n",
    "\t\t\t\t\t\t\t\tif (layer.popup.fieldInfos) {\n",
    "\t\t\t\t\t\t\t\t\tfieldInfos = layer.popup.fieldInfos;\n",
    "\t\t\t\t\t\t\t\t\tif (fieldInfos[0].hasOwnProperty('fieldName')) {\n",
    "\t\t\t\t\t\t\t\t\t\tif (fieldInfos[0].fieldName == null) {\n",
    "\t\t\t\t\t\t\t\t\t\t\tbPopup = false;\n",
    "\t\t\t\t\t\t\t\t\t\t} else {\n",
    "\t\t\t\t\t\t\t\t\t\t\tAttribute = fieldInfos[0].fieldName;\n",
    "\t\t\t\t\t\t\t\t\t\t\thashAttribute[layer.eaID.toString()] = Attribute;//It will be used as window.hashAttribute\n",
    "\t\t\t\t\t\t\t\t\t\t}\n",
    "\t\t\t\t\t\t\t\t\t} else {\n",
    "\t\t\t\t\t\t\t\t\t\tbPopup = false;\n",
    "\t\t\t\t\t\t\t\t\t}\n",
    "\t\t\t\t\t\t\t\t} else {\n",
    "\t\t\t\t\t\t\t\t\tbPopup = false;\n",
    "\t\t\t\t\t\t\t\t}\n",
    "\t\t\t\t\t\t\t\tif (bPopup) {\n",
    "\t\t\t\t\t\t\t\t\t_popupTemplate = new PopupTemplate(layer.popup);\n",
    "\t\t\t\t\t\t\t\t\t//lOptions.infoTemplate = _popupTemplate;\n",
    "\t\t\t\t\t\t\t\t} else {\n",
    "\t\t\t\t\t\t\t\t\tconsole.log(\"layer.eaID: \" + +layer.eaID.toString() + \" with no popup info defined\");\n",
    "\t\t\t\t\t\t\t\t}\n",
    "\t\t\t\t\t\t\t}\n",
    "\t\t\t\t\t\t\tif (layer.hasOwnProperty('mode')) {\n",
    "\t\t\t\t\t\t\t\tvar lmode;\n",
    "\t\t\t\t\t\t\t\tif (layer.mode === 'ondemand') {\n",
    "\t\t\t\t\t\t\t\t\tlmode = 1;\n",
    "\t\t\t\t\t\t\t\t} else if (layer.mode === 'snapshot') {\n",
    "\t\t\t\t\t\t\t\t\tlmode = 0;\n",
    "\t\t\t\t\t\t\t\t} else if (layer.mode === 'selection') {\n",
    "\t\t\t\t\t\t\t\t\tlmode = 2;\n",
    "\t\t\t\t\t\t\t\t}\n",
    "\t\t\t\t\t\t\t\tlOptions.mode = lmode;\n",
    "\t\t\t\t\t\t\t}\n",
    "\t\t\t\t\t\t\tlOptions.outFields = ['*'];\n",
    "\t\t\t\t\t\t\tif (layer.hasOwnProperty('autorefresh')) {\n",
    "\t\t\t\t\t\t\t\tlOptions.refreshInterval = layer.autorefresh;\n",
    "\t\t\t\t\t\t\t}\n",
    "\t\t\t\t\t\t\tif (layer.hasOwnProperty('showLabels')) {\n",
    "\t\t\t\t\t\t\t\tlOptions.showLabels = true;\n",
    "\t\t\t\t\t\t\t}\n",
    "\n",
    "\t\t\t\t\t\t\tif (bPopup) {\n",
    "\t\t\t\t\t\t\t\tif (layer.hasOwnProperty('eaLyrNum')) {\n",
    "\t\t\t\t\t\t\t\t\tlLayer = new FeatureLayer(layer.url + \"/\" + layer.eaLyrNum.toString(), lOptions);\n",
    "\t\t\t\t\t\t\t\t\twindow.hashURL[layer.eaID] = layer.url + \"/\" + layer.eaLyrNum.toString();\n",
    "\t\t\t\t\t\t\t\t} else {\n",
    "\t\t\t\t\t\t\t\t\tlLayer = new FeatureLayer(layer.url, lOptions);\n",
    "\t\t\t\t\t\t\t\t}\n",
    "\t\t\t\t\t\t\t}\n",
    "\n",
    "\t\t\t\t\t\t\tif (bNeedToBeAdded) {\n",
    "\t\t\t\t\t\t\t\tif (layer.tileLink == \"yes\") {\n",
    "\t\t\t\t\t\t\t\t\tvar tileLinkAdjusted = \"\";\n",
    "\t\t\t\t\t\t\t\t\tif (layer.tileURL.slice(-1) == \"/\") {\n",
    "\t\t\t\t\t\t\t\t\t\ttileLinkAdjusted = layer.tileURL;\n",
    "\t\t\t\t\t\t\t\t\t} else {\n",
    "\t\t\t\t\t\t\t\t\t\ttileLinkAdjusted = layer.tileURL + \"/\";\n",
    "\t\t\t\t\t\t\t\t\t}\n",
    "\t\t\t\t\t\t\t\t\twindow.hashIDtoTileURL[layer.eaID.toString()] = tileLinkAdjusted;\n",
    "\t\t\t\t\t\t\t\t\tif (tileLinkAdjusted.slice(-11) == \"_alllayers/\") {\n",
    "\t\t\t\t\t\t\t\t\t\tjimuUtils.initTileLayer(tileLinkAdjusted, window.layerIdTiledPrefix + layer.eaID.toString());\n",
    "\t\t\t\t\t\t\t\t\t\tthis._viewerMap.addLayer(new myTiledMapServiceLayer());\n",
    "\t\t\t\t\t\t\t\t\t\tlyrTiled = this._viewerMap.getLayer(window.layerIdTiledPrefix + layer.eaID.toString());\n",
    "\t\t\t\t\t\t\t\t\t\t//bji need to be modified to accomodate tile.\n",
    "\t\t\t\t\t\t\t\t\t\tif (lyrTiled) {\n",
    "\t\t\t\t\t\t\t\t\t\t\tlyrTiled.setOpacity(layer.opacity);\n",
    "\t\t\t\t\t\t\t\t\t\t}\n",
    "\t\t\t\t\t\t\t\t\t}\n",
    "\t\t\t\t\t\t\t\t\telse {\n",
    "\t\t\t\t\t\t\t\t\t\tlOptions.id = window.layerIdTiledPrefix + layer.eaID.toString();\n",
    "\t\t\t\t\t\t\t\t\t\tvar tileLayerForFeature = new ArcGISTiledMapServiceLayer(layer.tileURL, lOptions);\n",
    "\t\t\t\t\t\t\t\t\t\t//tileLayerForFeature.setMaxScale(2000000);\n",
    "\t\t\t\t\t\t\t\t\t\tif (layer.hasOwnProperty('tilecacheLevelNat')) {\n",
    "\t\t\t\t\t\t\t\t\t\t\ttileLayerForFeature.setMaxScale(Math.ceil(window.scaleLevelDic[layer.cacheLevelNat]));\n",
    "\t\t\t\t\t\t\t\t\t\t}\n",
    "\t\t\t\t\t\t\t\t\t\t/*tileLayerForFeature.on('load', function(evt) {\n",
    "\t\t\t\t\t\t\t\t\t\t\t\tsetTimeout(function () {\n",
    "\t\t\t\t\t\t\t\t\t\t\t\t\tevt.layer.setMaxScale(2000000);     \n",
    "\t\t\t\t\t\t\t\t\t\t\t\t}, 100)                      \t\t\t                            \n",
    "\t\n",
    "\t\t\t\t\t\t\t\t\t\t});*/\n",
    "\t\t\t\t\t\t\t\t\t\tthis._viewerMap.addLayer(tileLayerForFeature);\n",
    "\n",
    "\t\t\t\t\t\t\t\t\t}\n",
    "\t\t\t\t\t\t\t\t} else if (layer.eaScale == \"COMMUNITY\") {\n",
    "\t\t\t\t\t\t\t\t\tloadSymbologyConfig(function (response) {\n",
    "\t\t\t\t\t\t\t\t\t\tvar classBreakInfo = JSON.parse(response);\n",
    "\t\t\t\t\t\t\t\t\t\tvar renderer = new ClassBreaksRenderer(classBreakInfo);\n",
    "\t\t\t\t\t\t\t\t\t\tlLayer.setRenderer(renderer);\n",
    "\t\t\t\t\t\t\t\t\t});\n",
    "\t\t\t\t\t\t\t\t}\n",
    "\t\t\t\t\t\t\t}\n",
    "\t\t\t\t\t\t} else if (layer.type.toUpperCase() === 'TILED') {\n",
    "\t\t\t\t\t\t\twindow.tiledLayerNumber.push(layer.eaID);\n",
    "\t\t\t\t\t\t\tif (layer.displayLevels) {\n",
    "\t\t\t\t\t\t\t\tlOptions.displayLevels = layer.displayLevels;\n",
    "\t\t\t\t\t\t\t}\n",
    "\t\t\t\t\t\t\tif (layer.hasOwnProperty('autorefresh')) {\n",
    "\t\t\t\t\t\t\t\tlOptions.refreshInterval = layer.autorefresh;\n",
    "\t\t\t\t\t\t\t}\n",
    "\t\t\t\t\t\t\tlLayer = new ArcGISTiledMapServiceLayer(layer.url, lOptions);\n",
    "\n",
    "\t\t\t\t\t\t\tvar popupConfig = jimuUtils.getPopups(layer);\n",
    "\t\t\t\t\t\t\tlLayer.setInfoTemplates(popupConfig);\n",
    "\n",
    "\t\t\t\t\t\t} else if (layer.type.toUpperCase() === \"WMS\") {\n",
    "\n",
    "\t\t\t\t\t\t\tlLayer = new WMSLayer(layer.url, {\n",
    "\t\t\t\t\t\t\t\tformat: \"png\",\n",
    "\t\t\t\t\t\t\t});\n",
    "\n",
    "\t\t\t\t\t\t}\n",
    "\t\t\t\t\t\t//All layer types:\n",
    "\t\t\t\t\t\tif (bNeedToBeAdded) {\n",
    "\t\t\t\t\t\t\tdojo.connect(lLayer, \"onError\", function (error) {\n",
    "\t\t\t\t\t\t\t\tif ((!(lLayer.title in window.faildedEALayerDictionary)) && (!(lLayer.title in window.successLayerDictionary))) {\n",
    "\t\t\t\t\t\t\t\t\twindow.faildedEALayerDictionary[lLayer.title] = lLayer.title;\n",
    "\t\t\t\t\t\t\t\t\tshowDisplayLayerAddFailureWidget(lLayer.title);\n",
    "\t\t\t\t\t\t\t\t}\n",
    "\t\t\t\t\t\t\t});\n",
    "\n",
    "\t\t\t\t\t\t\tdojo.connect(lLayer, \"onLoad\", function (error) {\n",
    "\t\t\t\t\t\t\t\t//selfLocalLayer.publishData({\n",
    "\t\t\t\t\t\t\t\t//    message : \"AllLoaded\"\n",
    "\t\t\t\t\t\t\t\t//});\n",
    "\t\t\t\t\t\t\t\tif (!(lLayer.title in window.successLayerDictionary)) {\n",
    "\t\t\t\t\t\t\t\t\twindow.successLayerDictionary[lLayer.title] = lLayer.title;\n",
    "\t\t\t\t\t\t\t\t}\n",
    "\t\t\t\t\t\t\t});\n",
    "\n",
    "\t\t\t\t\t\t\tif (layer.name) {\n",
    "\t\t\t\t\t\t\t\tlLayer._titleForLegend = layer.name;\n",
    "\t\t\t\t\t\t\t\tlLayer.title = layer.name;\n",
    "\t\t\t\t\t\t\t\twindow.hashTitleToEAID[layer.name] = layer.eaID;\n",
    "\t\t\t\t\t\t\t\twindow.hashEAIDToTitle[layer.eaID] = layer.name;\n",
    "\t\t\t\t\t\t\t\tlLayer.noservicename = true;\n",
    "\t\t\t\t\t\t\t}\n",
    "\n",
    "\t\t\t\t\t\t\tlLayer.on('load', function (evt) {\n",
    "\t\t\t\t\t\t\t\tevt.layer.name = lOptions.id;\n",
    "\t\t\t\t\t\t\t\tcurrentEAID = evt.layer.id.replace(window.layerIdPrefix, \"\");\n",
    "\t\t\t\t\t\t\t\tevt.layer.setMinScale(Math.ceil(window.scaleLevelDic[window.hashIDtoCacheLevelNat[currentEAID]]));\n",
    "\t\t\t\t\t\t\t\t//console.log(\"on load lOptions.minScale: \" +Math.ceil(window.scaleLevelDic[window.hashIDtoCacheLevelNat[currentEAID]]));\n",
    "\t\t\t\t\t\t\t\tif (evt.layer.id == window.layerIdPrefix + communityBoundaryLayerID) {\n",
    "\t\t\t\t\t\t\t\t\tsetTimeout(function () {\n",
    "\t\t\t\t\t\t\t\t\t\tvar popupsTemplate = {};\n",
    "\t\t\t\t\t\t\t\t\t\tvar locationTemplate = new InfoTemplate();\n",
    "\t\t\t\t\t\t\t\t\t\tlocationTemplate.setTitle(\"EnviroAtlas Community Location\");\n",
    "\t\t\t\t\t\t\t\t\t\tlocationTemplate.setContent(getTextContent);\n",
    "\t\t\t\t\t\t\t\t\t\tvar boundaryTemplate = new InfoTemplate();\n",
    "\t\t\t\t\t\t\t\t\t\tboundaryTemplate.setTitle(\"EnviroAtlas Community Boundary\");\n",
    "\t\t\t\t\t\t\t\t\t\tboundaryTemplate.setContent(getTextContent);\n",
    "\t\t\t\t\t\t\t\t\t\tpopupsTemplate[0] = {\n",
    "\t\t\t\t\t\t\t\t\t\t\tinfoTemplate: locationTemplate\n",
    "\t\t\t\t\t\t\t\t\t\t};\n",
    "\n",
    "\t\t\t\t\t\t\t\t\t\tpopupsTemplate[1] = null;\n",
    "\t\t\t\t\t\t\t\t\t\tevt.layer._titleForLegend = window.communityLayerTitle;\n",
    "\t\t\t\t\t\t\t\t\t\tevt.layer.title = window.communityLayerTitle;\n",
    "\t\t\t\t\t\t\t\t\t\tevt.layer.noservicename = true;\n",
    "\t\t\t\t\t\t\t\t\t\tevt.layer.setInfoTemplates(popupsTemplate);\n",
    "\t\t\t\t\t\t\t\t\t}, 1000)\n",
    "\t\t\t\t\t\t\t\t}\n",
    "\t\t\t\t\t\t\t\telse if (window.nationalLayerNumber.includes(currentEAID)) {\n",
    "\t\t\t\t\t\t\t\t\tsetTimeout(function () {\n",
    "\t\t\t\t\t\t\t\t\t\tjimuUtils.adjustMapExtent(selfSimpleSearchFilter.map);\n",
    "\t\t\t\t\t\t\t\t\t}, 50)\n",
    "\t\t\t\t\t\t\t\t}\n",
    "\t\t\t\t\t\t\t});\n",
    "\n",
    "\t\t\t\t\t\t\tlLayer.id = window.layerIdPrefix + layer.eaID.toString();\n",
    "\n",
    "\t\t\t\t\t\t\tthis._viewerMap.addLayer(lLayer);\n",
    "\t\t\t\t\t\t\tif (layer.hasOwnProperty('eaScale')) {\n",
    "\t\t\t\t\t\t\t\tlLayer.eaScale = layer.eaScale;\n",
    "\t\t\t\t\t\t\t\tif (layer.eaScale == \"COMMUNITY\") {\n",
    "\t\t\t\t\t\t\t\t\t//lLayer.setVisibility(false);\n",
    "\t\t\t\t\t\t\t\t\tlLayer.setVisibility(true);\n",
    "\t\t\t\t\t\t\t\t\t//turn off the layer when first added to map and let user to turn on\n",
    "\t\t\t\t\t\t\t\t\twindow.communityLayerNumber.push(layer.eaID.toString());\n",
    "\t\t\t\t\t\t\t\t\tsetTimeout(function () {\n",
    "\t\t\t\t\t\t\t\t\t\t_addSelectedLayers(layersTobeAdded, communityBoundaryLayerID);\n",
    "\t\t\t\t\t\t\t\t\t}, 2000)\n",
    "\t\t\t\t\t\t\t\t} else {//National\n",
    "\t\t\t\t\t\t\t\t\t//lLayer.setVisibility(false);\n",
    "\t\t\t\t\t\t\t\t\tlLayer.setVisibility(true);\n",
    "\t\t\t\t\t\t\t\t\twindow.nationalLayerNumber.push(layer.eaID.toString());\n",
    "\t\t\t\t\t\t\t\t}\n",
    "\t\t\t\t\t\t\t}\n",
    "\t\t\t\t\t\t}//end of if(bNeedToBeAdded)\n",
    "\t\t\t\t\t}\n",
    "\t\t\t\t}\n",
    "\t\t\t}\n",
    "\t\t};"
   ]
  },
  {
   "cell_type": "markdown",
   "id": "c0c37452",
   "metadata": {
    "hidden": true
   },
   "source": [
    "#### Demographics\n",
    "    - inputs are renderform\n",
    "    - Use base json to build a render object \n",
    "    - classbreak function applies symbology...applied to map as layerDrawingOptions\n",
    "    - selected fields build infoTemplates and renderField\n",
    "    - render object passed to  _genRenderer\n",
    "    - _genRender makes a wobj from this, which calls _getRenderer, and then makes a dmlayer = new ArcGISDynamicMapServiceLayer "
   ]
  },
  {
   "cell_type": "code",
   "execution_count": null,
   "id": "667b7949",
   "metadata": {
    "hidden": true
   },
   "outputs": [],
   "source": [
    "robj: {\n",
    "    bg_max: 16043,\n",
    "    bg_min: 0,\n",
    "    blk_max: 2565,\n",
    "    blk_min: 0,\n",
    "    classes: \"3\",\n",
    "    cnty_max: 3241204,\n",
    "    cnty_min: 39,\n",
    "    description: \"Number of Households\",\n",
    "    fid: \"HSHOLDS\",\n",
    "    fielddesc: \"Number of Households\",\n",
    "    fromcolor: \"#eff3ff\",\n",
    "    layervisible: true,\n",
    "    linecolor: b.Color {r: 192, g: 192, b: 192, a: 1},\n",
    "    linewidth: 1,\n",
    "    method: \"equal-interval\",\n",
    "    mid: \"census2010\",\n",
    "    opcvalue: 0.23180175529168823,\n",
    "    rendertype: \"polygon\",\n",
    "    st_max: 12577498.01,\n",
    "    st_min: 226878.99,\n",
    "    svcdesc: \"2010 Census\",\n",
    "    tocolor: \"#08519c\",\n",
    "    tr_max: 16043,\n",
    "    tr_min: 0,\n",
    "    }"
   ]
  },
  {
   "cell_type": "code",
   "execution_count": null,
   "id": "021defd7",
   "metadata": {
    "hidden": true
   },
   "outputs": [],
   "source": [
    "_mapRender: function (renderobj) {\n",
    "                var fielddesc = renderobj.fielddesc;\n",
    "                var svcdesc = renderobj.svcdesc;\n",
    "                var opcvalue = renderobj.opcvalue;\n",
    "                var mapid = renderobj.mid;\n",
    "                var fieldid = renderobj.fid;\n",
    "                var layervisible = renderobj.layervisible;\n",
    "                //console.log(mapid + \"; \" + fieldid + \"; \" + renderobj.rendertype)\n",
    "                var activelayer = this.getActiveLayer(mapid, fieldid);\n",
    "                var headerfields = _config.demogJSON[mapid].baselayers[activelayer].headerfields;\n",
    "                renderobj.actlayer = activelayer;\n",
    "                var alyrindex = null;\n",
    "                var dataUrl = _config.demogJSON[mapid].layerurl + _config.demogJSON[mapid].service + \"/MapServer\";\n",
    "                var renderuniquekey = fieldid + \"_\" + renderobj.method + \"_\" + renderobj.classes;\n",
    "                var orgrender = null;\n",
    "                var linewidth = renderobj.linewidth;\n",
    "                var linecolor = renderobj.linecolor;\n",
    "\n",
    "                var optionsArray = [];\n",
    "                //var layeridstr = mapid + fieldid + \"_map\";\n",
    "                var layeridstr = window.layerIdDemographPrefix + mapid + fieldid + \"_map\";\n",
    "                //get renderer for all layers\n",
    "                var blayers = _config.demogJSON[mapid].baselayers;\n",
    "                for (var currentLayer in blayers) {\n",
    "                    orgrender = _config.demogJSON[mapid].baselayers[currentLayer].renderobj[renderuniquekey];\n",
    "                    alyrindex = _config.demogJSON[mapid].baselayers[currentLayer].layeridx;\n",
    "                    if (renderobj.rendertype == \"polygon\") {\n",
    "                        var mycolors = this.generateColors(renderobj.classes, renderobj.fromcolor, renderobj.tocolor);\n",
    "                        for (var m = 0; m < orgrender.infos.length; m++) {\n",
    "                            //console.log(mycolors[m]);\n",
    "                            orgrender.infos[m].symbol.setColor(mycolors[m]);\n",
    "                            orgrender.infos[m].symbol.outline.setColor(new Color(linecolor));\n",
    "                            orgrender.infos[m].symbol.outline.setWidth(linewidth);\n",
    "\n",
    "                        }\n",
    "                        renderobj.renderer = orgrender;\n",
    "                        var drawingOptions = new esri.layers.LayerDrawingOptions();\n",
    "                        drawingOptions.renderer = orgrender;\n",
    "                        optionsArray[alyrindex] = drawingOptions;\n",
    "                    } else {\n",
    "                        var pntrenderer = new ClassBreaksRenderer();\n",
    "                        pntrenderer.attributeField = orgrender.attributeField;\n",
    "                        var fillSymbol = new SimpleFillSymbol();\n",
    "                        fillSymbol.setColor(new Color([0, 0, 0, 0]));\n",
    "                        fillSymbol.outline.setColor(new Color([133, 133, 133, .5]));\n",
    "                        fillSymbol.outline.setWidth(0);\n",
    "\n",
    "                        pntrenderer.backgroundFillSymbol = fillSymbol;\n",
    "                        pntrenderer.valueExpressionTitle = fielddesc;\n",
    "                        var pntcolor = renderobj.circlecolor;\n",
    "\n",
    "                        var minsize = Number(renderobj.circlemins);\n",
    "                        var maxsize = Number(renderobj.circlemaxs);\n",
    "                        var sinterval = (maxsize - minsize) / (Number(renderobj.classes) - 1);\n",
    "                        for (var m = 0; m < orgrender.infos.length; m++) {\n",
    "                            var markerSymbol = new SimpleMarkerSymbol();\n",
    "                            markerSymbol.setColor(new Color(pntcolor));\n",
    "\n",
    "                            markerSymbol.outline.setColor(new Color(linecolor));\n",
    "                            markerSymbol.outline.setWidth(linewidth);\n",
    "                            var s = parseInt(minsize + m * sinterval);\n",
    "                            //console.log(\"size: \" + s);\n",
    "                            markerSymbol.setSize(s);\n",
    "                            pntrenderer.addBreak({\n",
    "                                minValue: orgrender.infos[m].minValue,\n",
    "                                maxValue: orgrender.infos[m].maxValue,\n",
    "                                label: orgrender.infos[m].label,\n",
    "                                symbol: markerSymbol\n",
    "                            });\n",
    "\n",
    "                        }\n",
    "                        renderobj.renderer = pntrenderer;\n",
    "                        var drawingOptions = new esri.layers.LayerDrawingOptions();\n",
    "                        drawingOptions.renderer = pntrenderer;\n",
    "                        optionsArray[alyrindex] = drawingOptions;\n",
    "                    }\n",
    "                }\n",
    "                alyrindex = _config.demogJSON[mapid].baselayers[activelayer].layeridx;\n",
    "                window.demographicLayerVisibleIndex = alyrindex;\n",
    "                //end of getting renderer for all layers\n",
    "\n",
    "\n",
    "                if (this.map.getLayer(layeridstr)) {\n",
    "                    var dmlayer = this.map.getLayer(layeridstr);\n",
    "                    this.map.removeLayer(dmlayer);\n",
    "                } else {\n",
    "                    this._serviceWidgets.push(renderobj);\n",
    "                }\n",
    "                var dmlayer = new ArcGISDynamicMapServiceLayer(dataUrl, {\n",
    "                    \"id\": layeridstr,\n",
    "                    \"opacity\": opcvalue,\n",
    "                    \"visible\": layervisible\n",
    "                });\n",
    "\n",
    "                dmlayer.on('error', function (evt) {\n",
    "                    alert(\"We cannot connect to the service, error message: \" + evt.error.message);\n",
    "                });\n",
    "                this.map.addLayer(dmlayer);\n",
    "                dmlayer.on(\"update-start\", lang.hitch(this, this.showloading, layeridstr));\n",
    "                dmlayer.on(\"update-end\", lang.hitch(this, this.hideloading, layeridstr));\n",
    "                var infostr = \"\";\n",
    "                for (var f in headerfields) {\n",
    "                    var ilabel = headerfields[f];\n",
    "                    infostr += ilabel + \": ${\" + f + \"}<br />\";\n",
    "\n",
    "                }\n",
    "                infostr += fielddesc + \": ${\" + fieldid + \": NumberFormat(places:0)}\";\n",
    "                var infoTemplate = new InfoTemplate(fielddesc, infostr);\n",
    "                var iTemplates = {};\n",
    "                iTemplates[alyrindex] = { infoTemplate: infoTemplate };\n",
    "\n",
    "                dmlayer.setInfoTemplates(iTemplates)\n",
    "                dmlayer.setVisibleLayers([alyrindex]);\n",
    "                dmlayer.setLayerDrawingOptions(optionsArray);\n",
    "\n",
    "                //var dtitle = fielddesc + \" (\" + svcdesc + \")\";\n",
    "                var dtitle = window.demographicsTitlePrefix + fielddesc + \" (\" + svcdesc + \")\";\n",
    "                //dmlayer.name = fielddesc;\n",
    "                dmlayer.title = dtitle;\n",
    "                this.demographicLayerName = dtitle;\n",
    "\n",
    "                dmlayer.isDynamic = true;\n",
    "                dmlayer.renderField = fieldid;\n",
    "                dmlayer.layerType = mapid + \"_\" + alyrindex;\n",
    "                dmlayer.renderIndex = alyrindex;\n",
    "\n",
    "                if (renderobj.whereclause) {\n",
    "                    var layerdef = [];\n",
    "                    layerdef[alyrindex] = renderobj.whereclause;\n",
    "                    dmlayer.setLayerDefinitions(layerdef);\n",
    "                }\n",
    "                this.removespining();\n",
    "            },\n",
    " }"
   ]
  },
  {
   "cell_type": "code",
   "execution_count": null,
   "id": "c26670f3",
   "metadata": {
    "hidden": true
   },
   "outputs": [],
   "source": [
    "# on click _mapDemog. Calls classbreak           \n",
    "    _mapDemog: function (e) {\n",
    "                this.addspining(e);\n",
    "                var frm = this.renderform;\n",
    "\n",
    "                var mapid = this.dtype;\n",
    "                var fieldid = this.demogListNode.value;\n",
    "                var dmethod = this.classTypeNode.value;\n",
    "                var dclass = this.classNumNode.value;\n",
    "                var robj = _config.demogJSON[this.dtype].dynamiclayers[fieldid];\n",
    "                robj.rendertype = this.rendertype;\n",
    "                robj.method = dmethod;\n",
    "                robj.classes = dclass;\n",
    "                if (this.rendertype == \"polygon\") {\n",
    "                    var fcolor = frm.startcolor.value;\n",
    "                    var ecolor = frm.endcolor.value;\n",
    "                    robj.fromcolor = fcolor;\n",
    "                    robj.tocolor = ecolor;\n",
    "                } else {\n",
    "                    robj.circlecolor = this.colorpnt.getColor();\n",
    "                    robj.circlemins = this.minsizeNode.value;\n",
    "                    robj.circlemaxs = this.maxsizeNode.value;\n",
    "                }\n",
    "                robj.mid = mapid;\n",
    "                robj.fid = fieldid;\n",
    "\n",
    "                robj.linecolor = this.color1.getColor();\n",
    "                robj.linewidth = parseInt(this.bWidthNode.value);\n",
    "\n",
    "\n",
    "                robj.opcvalue = 1 - this.demogsliderNode.value;\n",
    "\n",
    "                var svcobj = this.serviceNode;\n",
    "                var svcdesc = svcobj.options[svcobj.selectedIndex].text;\n",
    "                robj.svcdesc = svcdesc;\n",
    "                var fieldobj = this.demogListNode;\n",
    "                var fielddesc = fieldobj.options[fieldobj.selectedIndex].text;\n",
    "                robj.fielddesc = fielddesc;\n",
    "                robj.layervisible = true;\n",
    "                this.classbreak(robj, true);\n",
    "                var demogSourceForURL = \"\";\n",
    "                for (var key in _config.demogJSON) {\n",
    "                    if (_config.demogJSON.hasOwnProperty(key)) {\n",
    "                        if (selfDemographic.serviceNode.value == key) {\n",
    "                            demogSourceForURL = _config.demogJSON[key].service.replace(\"ejscreen/\", \"\");\n",
    "                        }\n",
    "                    }\n",
    "                }\n",
    "\n",
    "                var urlParameter = \"?demogSource=\" + demogSourceForURL + \"&demogCategory=\" + selfDemographic.demogTypeNode.value + \"&demogVariable=\" + selfDemographic.demogListNode.value;//?demogSource = census2018acs & demogCategory=Housing& demogVariable=RENT_AMT_3000_3499\n",
    "                document.getElementById(\"urlToBeCopied\").value = window.location.host + window.location.pathname + urlParameter\n",
    "\n",
    "\n",
    "            },"
   ]
  },
  {
   "cell_type": "code",
   "execution_count": null,
   "id": "8050a84c",
   "metadata": {
    "hidden": true
   },
   "outputs": [],
   "source": [
    "#calls _mapRender\n",
    "classbreak: function (renderobj) {\n",
    "                var mapid = renderobj.mid;\n",
    "                var fieldid = renderobj.fid;\n",
    "                var activelayer = this.getActiveLayer(mapid, fieldid);\n",
    "                var descstr = _config.demogJSON[mapid].baselayers[activelayer].level;\n",
    "                this.levelDiv.innerHTML = descstr;\n",
    "                renderobj.actlayer = activelayer;\n",
    "                var renderuniquekey = fieldid + \"_\" + renderobj.method + \"_\" + renderobj.classes;\n",
    "                if (_config.demogJSON[mapid].baselayers[activelayer].renderobj[renderuniquekey]) {\n",
    "                    this._mapRender(renderobj);\n",
    "                } else {\n",
    "                    this._genRender(renderobj);\n",
    "                    //this._mapRender(renderobj);\n",
    "                }\n",
    "\n",
    "            },"
   ]
  },
  {
   "cell_type": "markdown",
   "id": "a49d4a74",
   "metadata": {},
   "source": [
    "# Imports"
   ]
  },
  {
   "cell_type": "code",
   "execution_count": null,
   "id": "e7f2eecb",
   "metadata": {},
   "outputs": [],
   "source": [
    "import pandas as pd\n",
    "import json\n",
    "from itertools import groupby"
   ]
  },
  {
   "cell_type": "code",
   "execution_count": null,
   "id": "2825bf72",
   "metadata": {},
   "outputs": [],
   "source": [
    "pd.set_option(\"display.max_rows\", None) "
   ]
  },
  {
   "cell_type": "code",
   "execution_count": null,
   "id": "a25ceaaf",
   "metadata": {},
   "outputs": [],
   "source": [
    "# Input JSON data (from production)\n",
    "config_path = 'EnviroAtlas/EnviroAtlas_v4/client/src/shared/dataCatalog_config.json'"
   ]
  },
  {
   "cell_type": "markdown",
   "id": "f6dce4fe",
   "metadata": {},
   "source": [
    "# Add to map"
   ]
  },
  {
   "cell_type": "code",
   "execution_count": null,
   "id": "7cd38f19",
   "metadata": {},
   "outputs": [],
   "source": [
    "with open(config_path, 'r') as f:\n",
    "    data = json.load(f)"
   ]
  },
  {
   "cell_type": "code",
   "execution_count": null,
   "id": "7064133b",
   "metadata": {},
   "outputs": [],
   "source": [
    "# Data to drop\n",
    "keys = [\n",
    "    'mode', \n",
    "    'eaMetric', \n",
    "    'eaMetadata', \n",
    "    'eaDescription', \n",
    "    'eaDfsLink', \n",
    "    'sourceType',\n",
    "    'eaBCSDD',\n",
    "    'autorefresh',\n",
    "    'DownloadSource', \n",
    "    'eaTags',\n",
    "    'areaGeog',\n",
    "    'eaScale',\n",
    "    'hucNavStats',\n",
    "    'hucNavStatsUnits',\n",
    "    'categoryTab',\n",
    "    'eaTopic',\n",
    "    'SubLayerIds',\n",
    "    'SubLayerNames',\n",
    "    'eaRCA',\n",
    "    'eaFFM',\n",
    "    'eaCA',\n",
    "    'eaCS',\n",
    "    'eaCPW',\n",
    "    'eaNHM',\n",
    "    'eaBC',\n",
    "    'eaPBS',\n",
    "    'visible',\n",
    "    'opacity',\n",
    "    'IsSubLayer',\n",
    "    'numDecimal',\n",
    "    'agoID']"
   ]
  },
  {
   "cell_type": "code",
   "execution_count": null,
   "id": "3a951971",
   "metadata": {},
   "outputs": [],
   "source": [
    "# Drop all the keys from JSON dataset\n",
    "for i in data:\n",
    "    for key in keys:\n",
    "        i.pop(key, None)"
   ]
  },
  {
   "cell_type": "code",
   "execution_count": null,
   "id": "57bfd122",
   "metadata": {},
   "outputs": [],
   "source": [
    "# Filter data to eaID less than 1000 (i.e. layers) \n",
    "data_filtered_layers = [d for d in data if d[\"eaID\"] < 1000]\n",
    "print(data_filtered_layers)"
   ]
  },
  {
   "cell_type": "code",
   "execution_count": null,
   "id": "b50a6937",
   "metadata": {},
   "outputs": [],
   "source": [
    "output_config_path = 'EnviroAtlas/EnviroAtlas_v4/client/src/shared/dataCatalog_layerConfig.json'"
   ]
  },
  {
   "cell_type": "code",
   "execution_count": null,
   "id": "1e0280de",
   "metadata": {},
   "outputs": [],
   "source": [
    "# Save Layer JSON only\n",
    "with open(output_config_path, 'w') as file:\n",
    "    json.dump(data_filtered_layers, file, sort_keys=True)"
   ]
  },
  {
   "cell_type": "code",
   "execution_count": null,
   "id": "209a13cf",
   "metadata": {},
   "outputs": [],
   "source": [
    "filtered_layers_df = pd.DataFrame(data_filtered_layers)"
   ]
  },
  {
   "cell_type": "code",
   "execution_count": null,
   "id": "01c0a796",
   "metadata": {},
   "outputs": [],
   "source": [
    "#filtered_layers_df.IsSubLayer = filtered_layers_df.IsSubLayer.fillna(False)\n",
    "notTiled = filtered_layers_df.loc[filtered_layers_df['tileLink'] == 'no']\n",
    "notTiled = notTiled.loc[notTiled['type'] == 'FEATURE']\n",
    "notTiled = notTiled.drop(columns=['tileLink', 'tileURL', 'cacheLevelNat'])\n",
    "#notSubLayers\n",
    "notTiled"
   ]
  },
  {
   "cell_type": "code",
   "execution_count": null,
   "id": "b9936b94",
   "metadata": {},
   "outputs": [],
   "source": [
    "filtered_layers_df"
   ]
  },
  {
   "cell_type": "markdown",
   "id": "3abcda0d",
   "metadata": {},
   "source": [
    "# Data Prep for UI"
   ]
  },
  {
   "cell_type": "code",
   "execution_count": null,
   "id": "8d9d2191",
   "metadata": {},
   "outputs": [],
   "source": [
    "with open(config_path, 'r') as f:\n",
    "    data = json.load(f)"
   ]
  },
  {
   "cell_type": "code",
   "execution_count": null,
   "id": "0d0c0c6e",
   "metadata": {},
   "outputs": [],
   "source": [
    "# Data to drop for UI\n",
    "keys = [\n",
    "    'popup', \n",
    "    'mode', \n",
    "    'numDecimal', \n",
    "    'visible', \n",
    "    'eaMetric', \n",
    "    'eaMetadata', \n",
    "    'opacity', \n",
    "    'url', \n",
    "    'eaDescription', \n",
    "    'tileLink', \n",
    "    'eaDfsLink', \n",
    "    'sourceType',\n",
    "    'eaBCSDD',\n",
    "    'autorefresh',\n",
    "    'type', \n",
    "    'DownloadSource', \n",
    "    'eaLyrNum',\n",
    "    'eaTags',\n",
    "    'areaGeog',\n",
    "    'eaScale',\n",
    "    'tileURL',\n",
    "    'hucNavStats',\n",
    "    'hucNavStatsUnits',\n",
    "    'layers',\n",
    "    'cacheLevelNat',\n",
    "    'agoID']"
   ]
  },
  {
   "cell_type": "code",
   "execution_count": null,
   "id": "9e9563b1",
   "metadata": {},
   "outputs": [],
   "source": [
    "# Drop all the keys from JSON dataset\n",
    "for i in data:\n",
    "    for key in keys:\n",
    "        i.pop(key, None)"
   ]
  },
  {
   "cell_type": "markdown",
   "id": "25828fa0",
   "metadata": {},
   "source": [
    "# Test process for subtopics with many layers"
   ]
  },
  {
   "cell_type": "code",
   "execution_count": null,
   "id": "1219b3e7",
   "metadata": {},
   "outputs": [],
   "source": [
    "# Filter data to eaID greater than or equal to 1000 (i.e. subtopics with layer references) \n",
    "data_filtered_subtopics = [d for d in data if d[\"eaID\"] >= 1000]\n",
    "print(data_filtered_subtopics)"
   ]
  },
  {
   "cell_type": "code",
   "execution_count": null,
   "id": "6d5f9615",
   "metadata": {},
   "outputs": [],
   "source": [
    "# Rename columns\n",
    "rename_columns = {\n",
    "    \"categoryTab\" : \"category\",\n",
    "    \"eaTopic\" : \"title\",\n",
    "    \"SubLayerIds\": \"A\",\n",
    "    \"SubLayerNames\": \"C\"\n",
    "}\n",
    "filtered_subtopics_df = pd.DataFrame(data_filtered_subtopics)\n",
    "filtered_subtopics_df = filtered_subtopics_df.rename(columns=rename_columns)\n",
    "# filtered_subtopics_df = filtered_subtopics_df.set_index('eaID')\n",
    "cols=['title', 'category', 'eaBC', 'eaCA', 'eaCPW', 'eaCS', 'eaFFM', 'eaNHM', 'eaRCA', 'name', 'A', 'C', ]\n",
    "filtered_subtopics_df = filtered_subtopics_df[cols]\n",
    "filtered_subtopics_df"
   ]
  },
  {
   "cell_type": "code",
   "execution_count": null,
   "id": "c2d74883",
   "metadata": {},
   "outputs": [],
   "source": [
    "# Lump subtopics by eatopic\n",
    "filtered_subtopics_df_carbon = filtered_subtopics_df.loc[filtered_subtopics_df['title'] == \"Soils\"]\n",
    "filtered_subtopics_df_carbon"
   ]
  },
  {
   "cell_type": "code",
   "execution_count": null,
   "id": "c483e4f7",
   "metadata": {},
   "outputs": [],
   "source": [
    "explode = filtered_subtopics_df.explode(list('AC'))\n",
    "layers = explode.iloc[:, 2:].reset_index(drop=True)\n",
    "# layers = layers.set_index(['name'])\n",
    "cols = {\n",
    "    \"A\": \"eaID\",\n",
    "    \"C\": \"title\"\n",
    "}\n",
    "layers = layers.rename(columns=cols)\n",
    "layers = layers.astype({'eaID': 'int32'})\n",
    "layers"
   ]
  },
  {
   "cell_type": "code",
   "execution_count": null,
   "id": "dd72aa71",
   "metadata": {},
   "outputs": [],
   "source": [
    "subtopics = layers.to_json(orient='table')"
   ]
  },
  {
   "cell_type": "code",
   "execution_count": null,
   "id": "71aa7b85",
   "metadata": {},
   "outputs": [],
   "source": [
    "subtopics"
   ]
  },
  {
   "cell_type": "code",
   "execution_count": null,
   "id": "8e279320",
   "metadata": {},
   "outputs": [],
   "source": [
    "obj = json.loads(subtopics)\n",
    "data = obj[\"data\"]\n",
    "data"
   ]
  },
  {
   "cell_type": "code",
   "execution_count": null,
   "id": "ac05df54",
   "metadata": {},
   "outputs": [],
   "source": [
    "result = []\n",
    "key_function = lambda x: (x['name'], x['eaBC'], x['eaCA'], x['eaCPW'], x['eaCS'], x['eaFFM'], x['eaNHM'], x['eaRCA'])\n",
    "data.sort(key = key_function)\n",
    "for group, checkings in groupby(data, key_function):\n",
    "        user = {\n",
    "                'name': group[0],\n",
    "                'eaBC': group[1],\n",
    "                'eaCA': group[2],\n",
    "                'eaCPW': group[3],\n",
    "                'eaCS': group[4],\n",
    "                'eaFFM': group[5],\n",
    "                'eaNHM': group[6],\n",
    "                'eaRCA': group[7],\n",
    "                'layers': []\n",
    "        }\n",
    "        for title in checkings:\n",
    "                user['layers'].append(({\"title\": title['title'], \"eaID\": title['eaID']}))\n",
    "        result.append(user)\n",
    "\n",
    "print(json.dumps(result, indent=2))"
   ]
  },
  {
   "cell_type": "markdown",
   "id": "66424980",
   "metadata": {
    "heading_collapsed": true
   },
   "source": [
    "# Formalize Process"
   ]
  },
  {
   "cell_type": "code",
   "execution_count": null,
   "id": "387a78d4",
   "metadata": {
    "hidden": true
   },
   "outputs": [],
   "source": [
    "def process_old_json(subtopic):\n",
    "    filtered_subtopics_df_carbon = filtered_subtopics_df.loc[filtered_subtopics_df['title'] == subtopic]\n",
    "    explode = filtered_subtopics_df_carbon.explode(list('AC'))\n",
    "    layers = explode.iloc[:, 2:].reset_index(drop=True)\n",
    "    layers = layers.set_index(['name'])\n",
    "    cols = {\n",
    "        \"A\": \"eaID\",\n",
    "        \"C\": \"title\"\n",
    "    }\n",
    "    layers = layers.rename(columns=cols)\n",
    "    layers = layers.astype({'eaID': 'int32'})\n",
    "    subtopics = layers.to_json(orient='table')\n",
    "    obj = json.loads(subtopics)\n",
    "    data = obj[\"data\"]\n",
    "    result = []\n",
    "    key_function = lambda x: (x['name'], x['eaBC'], x['eaCA'], x['eaCPW'], x['eaCS'], x['eaFFM'], x['eaNHM'], x['eaRCA'])\n",
    "    data.sort(key = key_function)\n",
    "    for group, checkings in groupby(data, key_function):\n",
    "            user = {\n",
    "                    'name': group[0],\n",
    "                    'eaBC': group[1],\n",
    "                    'eaCA': group[2],\n",
    "                    'eaCPW': group[3],\n",
    "                    'eaCS': group[4],\n",
    "                    'eaFFM': group[5],\n",
    "                    'eaNHM': group[6],\n",
    "                    'eaRCA': group[7],\n",
    "                    'layers': []\n",
    "            }\n",
    "            for title in checkings:\n",
    "                    user['layers'].append(({\"title\": title['title'], \"eaID\": title['eaID']}))\n",
    "            result.append(user)\n",
    "\n",
    "    print(json.dumps(result, indent=2))"
   ]
  },
  {
   "cell_type": "markdown",
   "id": "8a9a2fc1",
   "metadata": {
    "hidden": true
   },
   "source": [
    "### Gather data...brute force copy and paste as \"subtopic\"..."
   ]
  },
  {
   "cell_type": "code",
   "execution_count": null,
   "id": "f19bb476",
   "metadata": {
    "hidden": true
   },
   "outputs": [],
   "source": [
    "process_old_json('Carbon Storage')"
   ]
  },
  {
   "cell_type": "code",
   "execution_count": null,
   "id": "dd565f26",
   "metadata": {
    "hidden": true
   },
   "outputs": [],
   "source": [
    "process_old_json('Crop Productivity')"
   ]
  },
  {
   "cell_type": "code",
   "execution_count": null,
   "id": "2f333bf2",
   "metadata": {
    "hidden": true
   },
   "outputs": [],
   "source": [
    "process_old_json('Ecosystem Markets')"
   ]
  },
  {
   "cell_type": "code",
   "execution_count": null,
   "id": "b8afdbf8",
   "metadata": {
    "hidden": true
   },
   "outputs": [],
   "source": [
    "process_old_json('Energy Potential')"
   ]
  },
  {
   "cell_type": "code",
   "execution_count": null,
   "id": "6649b45b",
   "metadata": {
    "hidden": true
   },
   "outputs": [],
   "source": [
    "process_old_json('Engagement with Outdoors')"
   ]
  },
  {
   "cell_type": "code",
   "execution_count": null,
   "id": "8c02008c",
   "metadata": {
    "hidden": true
   },
   "outputs": [],
   "source": [
    "process_old_json('Health and Economic Outcomes')"
   ]
  },
  {
   "cell_type": "code",
   "execution_count": null,
   "id": "6cf4a0c5",
   "metadata": {
    "hidden": true
   },
   "outputs": [],
   "source": [
    "process_old_json('Land Cover: Near-Water')"
   ]
  },
  {
   "cell_type": "code",
   "execution_count": null,
   "id": "ee31f73c",
   "metadata": {
    "hidden": true
   },
   "outputs": [],
   "source": [
    "process_old_json('Land Cover: Type')"
   ]
  },
  {
   "cell_type": "code",
   "execution_count": null,
   "id": "e634df74",
   "metadata": {
    "hidden": true
   },
   "outputs": [],
   "source": [
    "process_old_json('Landscape Pattern')"
   ]
  },
  {
   "cell_type": "code",
   "execution_count": null,
   "id": "3ca3d972",
   "metadata": {
    "hidden": true
   },
   "outputs": [],
   "source": [
    "process_old_json('Livestock and Poultry Production')"
   ]
  },
  {
   "cell_type": "code",
   "execution_count": null,
   "id": "d80fec2a",
   "metadata": {
    "hidden": true
   },
   "outputs": [],
   "source": [
    "process_old_json('Near-Road Environments')"
   ]
  },
  {
   "cell_type": "code",
   "execution_count": null,
   "id": "12294475",
   "metadata": {
    "hidden": true
   },
   "outputs": [],
   "source": [
    "process_old_json('Pollutant Reduction: Air')"
   ]
  },
  {
   "cell_type": "code",
   "execution_count": null,
   "id": "71cc0de1",
   "metadata": {
    "hidden": true
   },
   "outputs": [],
   "source": [
    "process_old_json('Pollutant Reduction: Water')"
   ]
  },
  {
   "cell_type": "code",
   "execution_count": null,
   "id": "37b4100a",
   "metadata": {
    "hidden": true
   },
   "outputs": [],
   "source": [
    "process_old_json('Protected Lands')"
   ]
  },
  {
   "cell_type": "code",
   "execution_count": null,
   "id": "07e9c862",
   "metadata": {
    "hidden": true
   },
   "outputs": [],
   "source": [
    "process_old_json('Soils')"
   ]
  },
  {
   "cell_type": "code",
   "execution_count": null,
   "id": "0b9979d5",
   "metadata": {
    "hidden": true
   },
   "outputs": [],
   "source": [
    "process_old_json('Species: At-Risk and Priority')"
   ]
  },
  {
   "cell_type": "code",
   "execution_count": null,
   "id": "e32d9e73",
   "metadata": {
    "hidden": true
   },
   "outputs": [],
   "source": [
    "process_old_json('Species: Other')"
   ]
  },
  {
   "cell_type": "code",
   "execution_count": null,
   "id": "0aa8d6b8",
   "metadata": {
    "hidden": true
   },
   "outputs": [],
   "source": [
    "process_old_json('Water Supply, Runoff, and Flow')"
   ]
  },
  {
   "cell_type": "code",
   "execution_count": null,
   "id": "4a1534d0",
   "metadata": {
    "hidden": true
   },
   "outputs": [],
   "source": [
    "process_old_json('Water Use')"
   ]
  },
  {
   "cell_type": "code",
   "execution_count": null,
   "id": "8d9702da",
   "metadata": {
    "hidden": true
   },
   "outputs": [],
   "source": [
    "process_old_json('Weather and Climate')"
   ]
  },
  {
   "cell_type": "code",
   "execution_count": null,
   "id": "d0815938",
   "metadata": {
    "hidden": true
   },
   "outputs": [],
   "source": [
    "process_old_json('Wetlands and Lowlands')"
   ]
  },
  {
   "cell_type": "code",
   "execution_count": null,
   "id": "5fc126ad",
   "metadata": {
    "hidden": true
   },
   "outputs": [],
   "source": [
    "process_old_json('Harmful Algal Blooms')"
   ]
  },
  {
   "cell_type": "code",
   "execution_count": null,
   "id": "5c5641c2",
   "metadata": {
    "hidden": true
   },
   "outputs": [],
   "source": [
    "process_old_json('Impaired Waters')"
   ]
  },
  {
   "cell_type": "code",
   "execution_count": null,
   "id": "fd07b0f9",
   "metadata": {
    "hidden": true
   },
   "outputs": [],
   "source": [
    "process_old_json('National Air Toxics Assessment')"
   ]
  },
  {
   "cell_type": "code",
   "execution_count": null,
   "id": "6766f79b",
   "metadata": {
    "hidden": true
   },
   "outputs": [],
   "source": [
    "process_old_json('Pollutants: Nutrients')"
   ]
  },
  {
   "cell_type": "code",
   "execution_count": null,
   "id": "d6bc0a7a",
   "metadata": {
    "hidden": true
   },
   "outputs": [],
   "source": [
    "process_old_json('Pollutants: Other')"
   ]
  },
  {
   "cell_type": "code",
   "execution_count": null,
   "id": "a5c6849f",
   "metadata": {
    "hidden": true
   },
   "outputs": [],
   "source": [
    "process_old_json('Sites Reporting to EPA ')"
   ]
  },
  {
   "cell_type": "code",
   "execution_count": null,
   "id": "d783a148",
   "metadata": {
    "hidden": true
   },
   "outputs": [],
   "source": [
    "process_old_json('Commuting and Walkability')"
   ]
  },
  {
   "cell_type": "code",
   "execution_count": null,
   "id": "f18d5a52",
   "metadata": {
    "hidden": true
   },
   "outputs": [],
   "source": [
    "process_old_json('Employment')"
   ]
  },
  {
   "cell_type": "code",
   "execution_count": null,
   "id": "0df5e59c",
   "metadata": {
    "hidden": true
   },
   "outputs": [],
   "source": [
    "process_old_json('Housing and Schools')"
   ]
  },
  {
   "cell_type": "code",
   "execution_count": null,
   "id": "03ca930e",
   "metadata": {
    "hidden": true
   },
   "outputs": [],
   "source": [
    "process_old_json('Population Distribution')"
   ]
  },
  {
   "cell_type": "code",
   "execution_count": null,
   "id": "c4423587",
   "metadata": {
    "hidden": true
   },
   "outputs": [],
   "source": [
    "process_old_json('Quality of Life')"
   ]
  },
  {
   "cell_type": "code",
   "execution_count": null,
   "id": "4e5e0508",
   "metadata": {
    "hidden": true
   },
   "outputs": [],
   "source": [
    "process_old_json('Vacancy')"
   ]
  },
  {
   "cell_type": "code",
   "execution_count": null,
   "id": "d2ea9219",
   "metadata": {
    "hidden": true
   },
   "outputs": [],
   "source": [
    "process_old_json('Ecological Boundaries')"
   ]
  },
  {
   "cell_type": "code",
   "execution_count": null,
   "id": "5dd290c8",
   "metadata": {
    "hidden": true
   },
   "outputs": [],
   "source": [
    "process_old_json('Hydrologic Features')"
   ]
  },
  {
   "cell_type": "code",
   "execution_count": null,
   "id": "42e55688",
   "metadata": {
    "hidden": true
   },
   "outputs": [],
   "source": [
    "process_old_json('Political Boundaries')"
   ]
  },
  {
   "cell_type": "markdown",
   "id": "c19d8e77",
   "metadata": {
    "heading_collapsed": true
   },
   "source": [
    "# TO DO: formalize this bit"
   ]
  },
  {
   "cell_type": "code",
   "execution_count": null,
   "id": "b69e9aa4",
   "metadata": {
    "hidden": true
   },
   "outputs": [],
   "source": [
    "new_df = explode.iloc[:, :2]\n",
    "new_df = new_df.drop_duplicates()\n",
    "new_df"
   ]
  },
  {
   "cell_type": "code",
   "execution_count": null,
   "id": "229e8660",
   "metadata": {
    "hidden": true
   },
   "outputs": [],
   "source": [
    "# Create DataCatologItem object\n",
    "# Define a custom function to create a nested structure\n",
    "def custom_nested_structure(row):\n",
    "    return {'Person': {'Name': row['Name'], 'Age': row['Age']}}"
   ]
  },
  {
   "cell_type": "code",
   "execution_count": null,
   "id": "561e4936",
   "metadata": {
    "hidden": true
   },
   "outputs": [],
   "source": [
    "output_config_path = '/src/shared/dataCatalog_testInitSubtopicsOnly.json'"
   ]
  },
  {
   "cell_type": "code",
   "execution_count": null,
   "id": "12608740",
   "metadata": {
    "hidden": true
   },
   "outputs": [],
   "source": [
    "# Save Subtopic JSON only\n",
    "with open(output_config_path, 'w') as file:\n",
    "    json.dump(data_filtered_subtopics, file)"
   ]
  },
  {
   "cell_type": "markdown",
   "id": "31bbea91",
   "metadata": {},
   "source": [
    "# Test process of subtopic with 1 layer"
   ]
  },
  {
   "cell_type": "code",
   "execution_count": null,
   "id": "f0909dab",
   "metadata": {},
   "outputs": [],
   "source": [
    "# Filter data to eaID less than 1000 (i.e. layers) \n",
    "data_filtered_layers = [d for d in data if d[\"eaID\"] < 1000]\n",
    "print(data_filtered_layers)"
   ]
  },
  {
   "cell_type": "code",
   "execution_count": null,
   "id": "9a0c95e5",
   "metadata": {},
   "outputs": [],
   "source": [
    "# notSubLayers_dict = filtered_layers_df.loc[filtered_layers_df['IsSubLayer'] == False].to_dict('records')\n",
    "# notSubLayers_dict"
   ]
  },
  {
   "cell_type": "code",
   "execution_count": null,
   "id": "55292ef9",
   "metadata": {},
   "outputs": [],
   "source": [
    "# Filter out where \"IsSubLayer\" is true (these are retained in the subtopic data)\n",
    "filtered_layers_df = pd.DataFrame(data_filtered_layers)\n",
    "filtered_layers_df.IsSubLayer = filtered_layers_df.IsSubLayer.fillna(False)\n",
    "notSubLayers = filtered_layers_df.loc[filtered_layers_df['IsSubLayer'] == False]\n",
    "notSubLayers = notSubLayers.drop(columns=['SubLayerIds', 'IsSubLayer'])\n",
    "notSubLayers"
   ]
  },
  {
   "cell_type": "code",
   "execution_count": null,
   "id": "75eadcef",
   "metadata": {},
   "outputs": [],
   "source": [
    "# Rename columns\n",
    "rename_columns = {\n",
    "    \"categoryTab\" : \"category\",\n",
    "    \"eaTopic\" : \"title\",\n",
    "}\n",
    "notSubLayers_df = pd.DataFrame(notSubLayers)\n",
    "notSubLayers_df = notSubLayers.rename(columns=rename_columns)\n",
    "cols=['title', 'category', 'eaBC', 'eaCA', 'eaCPW', 'eaCS', 'eaFFM', 'eaNHM', 'eaRCA', 'name', 'eaID']\n",
    "notSubLayers_df = notSubLayers_df[cols]\n",
    "notSubLayers_df"
   ]
  },
  {
   "cell_type": "code",
   "execution_count": null,
   "id": "763c2a91",
   "metadata": {},
   "outputs": [],
   "source": [
    "# Lump subtopics by eatopic\n",
    "notSubLayers_subset_df = notSubLayers_df.loc[notSubLayers_df['title'] == \"Protected Lands\"]\n",
    "notSubLayers_subset_df"
   ]
  },
  {
   "cell_type": "markdown",
   "id": "388a4d08",
   "metadata": {},
   "source": [
    "# Merge all subtopic and layers as flat data"
   ]
  },
  {
   "cell_type": "code",
   "execution_count": null,
   "id": "0f2da61d",
   "metadata": {},
   "outputs": [],
   "source": [
    "layers = notSubLayers_df.iloc[:, 2:].reset_index(drop=True)\n",
    "#layers = layers.set_index(['name'])\n",
    "cols = {\n",
    "    \"A\": \"eaID\",\n",
    "    \"C\": \"title\"\n",
    "}\n",
    "layers = layers.rename(columns=cols)\n",
    "layers2 = layers.astype({'eaID': 'int32'})\n",
    "layers2['title'] = \"\"\n",
    "layers2"
   ]
  },
  {
   "cell_type": "code",
   "execution_count": null,
   "id": "eeab86bd",
   "metadata": {},
   "outputs": [],
   "source": [
    "layers2.info()\n",
    "layers.info()\n",
    "merge_data = layers.merge(layers2, how='outer')\n",
    "merge_data"
   ]
  },
  {
   "cell_type": "code",
   "execution_count": null,
   "id": "6717efee",
   "metadata": {},
   "outputs": [],
   "source": [
    "merge_data.to_csv('EnviroAtlas_v4/client/src/shared/layers.csv')"
   ]
  },
  {
   "cell_type": "markdown",
   "id": "26961048",
   "metadata": {},
   "source": [
    "# Formalize process for subtopics with 1 layer (only difference with process old json is explode step)"
   ]
  },
  {
   "cell_type": "code",
   "execution_count": null,
   "id": "b0d78db8",
   "metadata": {},
   "outputs": [],
   "source": [
    "def process_old_json_noSubLayer(subtopic):\n",
    "    notSubLayers_subtopic_df = notSubLayers_df.loc[notSubLayers_df['title'] == subtopic]\n",
    "    layers = notSubLayers_subtopic_df.iloc[:, 2:].reset_index(drop=True)\n",
    "    layers = layers.set_index(['name'])\n",
    "    cols = {\n",
    "        \"A\": \"eaID\",\n",
    "        \"C\": \"title\"\n",
    "    }\n",
    "    layers = layers.rename(columns=cols)\n",
    "    layers = layers.astype({'eaID': 'int32'})\n",
    "    subtopics = layers.to_json(orient='table')\n",
    "    obj = json.loads(subtopics)\n",
    "    data = obj[\"data\"]\n",
    "    result = []\n",
    "    key_function = lambda x: (x['name'], x['eaBC'], x['eaCA'], x['eaCPW'], x['eaCS'], x['eaFFM'], x['eaNHM'], x['eaRCA'])\n",
    "    data.sort(key = key_function)\n",
    "    for group, checkings in groupby(data, key_function):\n",
    "            user = {\n",
    "                    'name': group[0],\n",
    "                    'eaBC': group[1],\n",
    "                    'eaCA': group[2],\n",
    "                    'eaCPW': group[3],\n",
    "                    'eaCS': group[4],\n",
    "                    'eaFFM': group[5],\n",
    "                    'eaNHM': group[6],\n",
    "                    'eaRCA': group[7],\n",
    "                    'layers': []\n",
    "            }\n",
    "            for title in checkings:\n",
    "                    user['layers'].append(({\"title\": title['name'], \"eaID\": title['eaID']}))\n",
    "            result.append(user)\n",
    "\n",
    "    print(json.dumps(result, indent=2))"
   ]
  },
  {
   "cell_type": "code",
   "execution_count": null,
   "id": "c277d36c",
   "metadata": {},
   "outputs": [],
   "source": [
    "process_old_json_notSubLayers(\"Protected Lands\")"
   ]
  },
  {
   "cell_type": "code",
   "execution_count": null,
   "id": "a20f1406",
   "metadata": {},
   "outputs": [],
   "source": [
    "output_config_path = 'EnviroAtlas_v4/client/src/shared/dataCatalog_testInitLayersOnly.json'"
   ]
  },
  {
   "cell_type": "code",
   "execution_count": null,
   "id": "80e95069",
   "metadata": {},
   "outputs": [],
   "source": [
    "# Save Layer JSON only\n",
    "with open(output_config_path, 'w') as file:\n",
    "    json.dump(notSubLayers_dict, file)"
   ]
  },
  {
   "cell_type": "code",
   "execution_count": null,
   "id": "ff2cd9d0",
   "metadata": {},
   "outputs": [],
   "source": []
  }
 ],
 "metadata": {
  "kernelspec": {
   "display_name": "Python 3 (ipykernel)",
   "language": "python",
   "name": "python3"
  },
  "language_info": {
   "codemirror_mode": {
    "name": "ipython",
    "version": 3
   },
   "file_extension": ".py",
   "mimetype": "text/x-python",
   "name": "python",
   "nbconvert_exporter": "python",
   "pygments_lexer": "ipython3",
   "version": "3.11.8"
  }
 },
 "nbformat": 4,
 "nbformat_minor": 5
}
